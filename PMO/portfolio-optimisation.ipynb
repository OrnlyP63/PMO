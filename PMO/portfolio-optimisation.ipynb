{
 "cells": [
  {
   "cell_type": "markdown",
   "metadata": {},
   "source": [
    "**1&nbsp;&nbsp;[Introduction](#1)**  \n",
    "**2&nbsp;&nbsp;[Environment](#2)**  \n",
    "&nbsp;&nbsp;&nbsp;&nbsp;2.1&nbsp;&nbsp;[Libraries](#2.1)  \n",
    "&nbsp;&nbsp;&nbsp;&nbsp;2.2&nbsp;&nbsp;[Data](#2.2)  \n",
    "**3&nbsp;&nbsp;[Optimisation](#3)**  \n",
    "&nbsp;&nbsp;&nbsp;&nbsp;3.1&nbsp;&nbsp;[Constants, parameters and variables](#3.1)  \n",
    "&nbsp;&nbsp;&nbsp;&nbsp;3.2&nbsp;&nbsp;[Objective function](#3.2)  \n",
    "&nbsp;&nbsp;&nbsp;&nbsp;3.3&nbsp;&nbsp;[Constraints](#3.3)  \n",
    "&nbsp;&nbsp;&nbsp;&nbsp;3.4&nbsp;&nbsp;[Solution](#3.4)  \n",
    "**4&nbsp;&nbsp;[Evaluation](#4)**  \n",
    "&nbsp;&nbsp;&nbsp;&nbsp;4.1&nbsp;&nbsp;[Parameterised portfolio](#4.1)  \n",
    "&nbsp;&nbsp;&nbsp;&nbsp;4.2&nbsp;&nbsp;[Optimal portfolio](#4.2)  \n",
    "**5&nbsp;&nbsp;[Conclusion](#5)**"
   ]
  },
  {
   "cell_type": "markdown",
   "metadata": {},
   "source": [
    "## 1 Introduction<a id=\"1\"></a>"
   ]
  },
  {
   "cell_type": "markdown",
   "metadata": {},
   "source": [
    "Given a set of $n$ assets:\n",
    "* $\\mathbf{p} \\in \\mathbb{R}_+^n$ is the price vector where $p_i$ is the price of asset $i$.\n",
    "* $\\mathbf{x} \\in \\mathbb{Z}^n$ is the portfolio allocation vector where $x_i$ is the number of shares in asset $i$ to buy. To prevent shorting: $\\mathbf{x}\\geq0$.\n",
    "* In one time period, $\\mathbf{r} \\in \\mathbb{R}^n$ is the return vector where $r_i$ is the return on asset $i$. The return is the difference in price divided by the price at the beginning of the period: $r_i = \\frac{p_{t+1}-p_t}{p_t}$. Portfolio return $R$ is given by: $R = \\mathbf{r}^T\\mathbf{x}$.\n",
    "* The return vector $\\mathbf{r}$ can be modelled as a random variable with mean $\\mathbb{E}[\\mathbf{r}]=\\mathbf{\\mu}$ and covariance $\\mathbb{E}[(\\mathbf{r}-\\mathbf{\\mu})(\\mathbf{r}-\\mathbf{\\mu})^T]=\\Sigma$. It follows that the portfolio return is also a random variable with mean $\\mathbb{E}[R]=\\mathbf{\\mu}^T\\mathbf{x}$ and variance $\\mathrm{Var}[R]=\\mathbf{x}^T\\Sigma\\mathbf{x}$.\n",
    "* $k \\in \\mathbb{R}_+^n$ is the maximum amount in one asset."
   ]
  },
  {
   "cell_type": "markdown",
   "metadata": {},
   "source": [
    "The optimal portfolio allocation is found by maximising the expected portfolio fractional return and minimising the portfolio variance. This becomes a mixed-integer quadratic programming problem:\n",
    "$$\\mathrm{arg}\\max_{\\mathbf{x}} \\mathbf{\\mu}^T\\mathbf{x}-\\frac{1}{2} \\mathbf{x}^T\\Sigma\\mathbf{x}$$\n",
    "$$\\mathrm{subject\\ to}$$\n",
    "$$\\mathbf{x} \\in \\mathbb{Z}^n$$\n",
    "$$\\mathbf{x}\\geq0$$\n",
    "$$p_i\\mathbf{x} \\leq k$$"
   ]
  },
  {
   "cell_type": "markdown",
   "metadata": {},
   "source": [
    "An equivalent optimisation problem is to set an upper bound $\\sigma^2$ on the portfolio variance and maximise the expected portfolio fractional return:\n",
    "$$\\mathrm{arg}\\max_{\\mathbf{x}} \\mathbf{\\mu}^T\\mathbf{x}$$\n",
    "$$\\mathrm{subject\\ to}$$\n",
    "$$\\mathbf{x} \\in \\mathbb{Z}^n$$\n",
    "$$\\mathbf{x}\\geq0$$\n",
    "$$\\mathbf{x}^T\\Sigma\\mathbf{x} \\leq \\sigma^2$$\n",
    "$$p_i\\mathbf{x}\\leq k$$"
   ]
  },
  {
   "cell_type": "markdown",
   "metadata": {},
   "source": [
    "## 2 Environment<a id=\"2\"></a>"
   ]
  },
  {
   "cell_type": "markdown",
   "metadata": {},
   "source": [
    "### 2.1 Libraries<a id=\"2.1\"></a>"
   ]
  },
  {
   "cell_type": "markdown",
   "metadata": {},
   "source": [
    "Load libraries into notebook"
   ]
  },
  {
   "cell_type": "code",
   "execution_count": 1,
   "metadata": {
    "_cell_guid": "79c7e3d0-c299-4dcb-8224-4455121ee9b0",
    "_uuid": "d629ff2d2480ee46fbb7e2d37f6b5fab8052498a"
   },
   "outputs": [],
   "source": [
    "import os                               # Operating system\n",
    "import math                             # Mathematics\n",
    "import numpy as np                      # Arrays\n",
    "import pandas as pd                     # Dataframes\n",
    "import matplotlib.pyplot as plt         # Graphs\n",
    "from matplotlib import cm               # Colours\n",
    "import scipy                            # Scientific computing\n",
    "import cvxpy as cp                      # Convex optimisation\n",
    "from mpl_toolkits.mplot3d import Axes3D # 3D graphs"
   ]
  },
  {
   "cell_type": "code",
   "execution_count": 2,
   "metadata": {},
   "outputs": [],
   "source": [
    "%matplotlib inline"
   ]
  },
  {
   "cell_type": "markdown",
   "metadata": {},
   "source": [
    "### 2.2 Data<a id=\"2.2\"></a>"
   ]
  },
  {
   "cell_type": "markdown",
   "metadata": {},
   "source": [
    "Get list of stock names"
   ]
  },
  {
   "cell_type": "code",
   "execution_count": 3,
   "metadata": {},
   "outputs": [],
   "source": [
    "stocks = [stock.split('.')[0] for stock in sorted(os.listdir('archive/'))]"
   ]
  },
  {
   "cell_type": "markdown",
   "metadata": {},
   "source": [
    "Create a dataframe containing dates"
   ]
  },
  {
   "cell_type": "code",
   "execution_count": 4,
   "metadata": {},
   "outputs": [],
   "source": [
    "dates = pd.date_range('2000-01-01', '2020-03-31') # Create date range from 01-01-2000 to 31-03-2020\n",
    "data = pd.DataFrame({'Time': dates})              # Add dates to dataframe with column name"
   ]
  },
  {
   "cell_type": "markdown",
   "metadata": {},
   "source": [
    "Append the adjusted closing price of each stock to a dataframe keyed on date"
   ]
  },
  {
   "cell_type": "code",
   "execution_count": 5,
   "metadata": {},
   "outputs": [],
   "source": [
    "for stock in stocks:                                                          # For each stock\n",
    "    prices = pd.read_csv(                                                     # Read prices into dataframe\n",
    "        'archive/' + stock + '.csv', # Get filename\n",
    "        usecols=['Date', 'Adj Close']                                         # Select date and adjusted closing price\n",
    "    )\n",
    "    prices['Date'] = pd.to_datetime(prices['Date'])                           # Typecast dates to datetimes\n",
    "    prices.rename(                                                            # Rename columns\n",
    "        columns={\"Date\": \"Time\", \"Adj Close\": stock},\n",
    "        inplace=True\n",
    "    )\n",
    "    data = pd.merge(                                                          # Add stock to master dataframe\n",
    "        data,                                                                 # Initially contains dates only\n",
    "        prices,                                                               # Insert stock prices\n",
    "        how='left',                                                           # Left outer join\n",
    "        on=['Time'],                                                          # Key on the time column\n",
    "        sort=False\n",
    "    )"
   ]
  },
  {
   "cell_type": "markdown",
   "metadata": {},
   "source": [
    "Remove non-trading days"
   ]
  },
  {
   "cell_type": "code",
   "execution_count": 6,
   "metadata": {},
   "outputs": [],
   "source": [
    "data = data[data['Time'].dt.weekday < 5] # Remove weekend dates\n",
    "data = data.dropna(axis=0, how='all') # Remove empty rows"
   ]
  },
  {
   "cell_type": "markdown",
   "metadata": {},
   "source": [
    "## 3 Optimisation<a id=\"3\"></a>"
   ]
  },
  {
   "cell_type": "markdown",
   "metadata": {},
   "source": [
    "### 3.1 Constants, parameters and variables<a id=\"3.1\"></a>"
   ]
  },
  {
   "cell_type": "markdown",
   "metadata": {},
   "source": [
    "Get last price for each stock"
   ]
  },
  {
   "cell_type": "code",
   "execution_count": 7,
   "metadata": {},
   "outputs": [],
   "source": [
    "p = data \\\n",
    "    .drop(['Time'], axis=1) \\\n",
    "    .tail(1) \\\n",
    "    .to_numpy()"
   ]
  },
  {
   "cell_type": "markdown",
   "metadata": {},
   "source": [
    "Calculate weekly returns from 1 January 2019 onwards"
   ]
  },
  {
   "cell_type": "code",
   "execution_count": 8,
   "metadata": {},
   "outputs": [],
   "source": [
    "r = data[(data['Time'].dt.weekday == 4) & (data['Time'] >= '2019-01-01')] \\\n",
    "    .drop(['Time'], axis=1) \\\n",
    "    .pct_change(fill_method='ffill')"
   ]
  },
  {
   "cell_type": "markdown",
   "metadata": {},
   "source": [
    "Calculate expected return and covariance matrix"
   ]
  },
  {
   "cell_type": "code",
   "execution_count": 9,
   "metadata": {},
   "outputs": [],
   "source": [
    "sigma = r.cov().to_numpy()\n",
    "mu = r.mean().to_numpy()"
   ]
  },
  {
   "cell_type": "markdown",
   "metadata": {},
   "source": [
    "Get number of stocks"
   ]
  },
  {
   "cell_type": "code",
   "execution_count": 10,
   "metadata": {},
   "outputs": [],
   "source": [
    "n = len(stocks)"
   ]
  },
  {
   "cell_type": "markdown",
   "metadata": {},
   "source": [
    "Set optimisation variable and parameters"
   ]
  },
  {
   "cell_type": "code",
   "execution_count": 11,
   "metadata": {},
   "outputs": [],
   "source": [
    "x = cp.Variable(shape=n, integer=True)\n",
    "threshold = cp.Parameter(nonneg=True) # maximum portfolio variance\n",
    "k = cp.Parameter(nonneg=True) # maximum allocation into one stock"
   ]
  },
  {
   "cell_type": "markdown",
   "metadata": {},
   "source": [
    "Formulate portfolio mean and variance"
   ]
  },
  {
   "cell_type": "code",
   "execution_count": 12,
   "metadata": {},
   "outputs": [
    {
     "name": "stderr",
     "output_type": "stream",
     "text": [
      "C:\\Users\\ideapad 330\\Anaconda3\\lib\\site-packages\\cvxpy\\expressions\\expression.py:550: UserWarning: \n",
      "This use of ``*`` has resulted in matrix multiplication.\n",
      "Using ``*`` for matrix multiplication has been deprecated since CVXPY 1.1.\n",
      "    Use ``*`` for matrix-scalar and vector-scalar multiplication.\n",
      "    Use ``@`` for matrix-matrix and matrix-vector multiplication.\n",
      "    Use ``multiply`` for elementwise multiplication.\n",
      "\n",
      "  warnings.warn(__STAR_MATMUL_WARNING__, UserWarning)\n"
     ]
    }
   ],
   "source": [
    "mean = mu.T * x\n",
    "variance = cp.quad_form(x, sigma)"
   ]
  },
  {
   "cell_type": "markdown",
   "metadata": {},
   "source": [
    "### 3.2 Objective function<a id=\"3.2\"></a>"
   ]
  },
  {
   "cell_type": "markdown",
   "metadata": {},
   "source": [
    "Define the objective function (maximise expected portfolio return)"
   ]
  },
  {
   "cell_type": "code",
   "execution_count": 13,
   "metadata": {},
   "outputs": [
    {
     "name": "stderr",
     "output_type": "stream",
     "text": [
      "C:\\Users\\ideapad 330\\Anaconda3\\lib\\site-packages\\ipykernel\\ipkernel.py:287: DeprecationWarning: `should_run_async` will not call `transform_cell` automatically in the future. Please pass the result to `transformed_cell` argument and any exception that happen during thetransform in `preprocessing_exc_tuple` in IPython 7.17 and above.\n",
      "  and should_run_async(code)\n"
     ]
    }
   ],
   "source": [
    "objective = cp.Maximize(mean)"
   ]
  },
  {
   "cell_type": "markdown",
   "metadata": {},
   "source": [
    "### 3.3 Constraints<a id=\"3.3\"></a>"
   ]
  },
  {
   "cell_type": "markdown",
   "metadata": {},
   "source": [
    "Define optimisation constraints"
   ]
  },
  {
   "cell_type": "code",
   "execution_count": 14,
   "metadata": {},
   "outputs": [
    {
     "name": "stderr",
     "output_type": "stream",
     "text": [
      "C:\\Users\\ideapad 330\\Anaconda3\\lib\\site-packages\\cvxpy\\expressions\\expression.py:550: UserWarning: \n",
      "This use of ``*`` has resulted in matrix multiplication.\n",
      "Using ``*`` for matrix multiplication has been deprecated since CVXPY 1.1.\n",
      "    Use ``*`` for matrix-scalar and vector-scalar multiplication.\n",
      "    Use ``@`` for matrix-matrix and matrix-vector multiplication.\n",
      "    Use ``multiply`` for elementwise multiplication.\n",
      "\n",
      "  warnings.warn(__STAR_MATMUL_WARNING__, UserWarning)\n"
     ]
    }
   ],
   "source": [
    "constraints = [\n",
    "    x >= 0,                                 # no shorting\n",
    "    variance <= threshold                   # upper bound on portfolio variance\n",
    "]\n",
    "for pi in p:\n",
    "    constraints = constraints + [pi*x <= k] # upper bound on single-stock allocation"
   ]
  },
  {
   "cell_type": "markdown",
   "metadata": {},
   "source": [
    "### 3.4 Solution<a id=\"3.4\"></a>"
   ]
  },
  {
   "cell_type": "markdown",
   "metadata": {},
   "source": [
    "Initialise the optimisation problem using objective function and constraints"
   ]
  },
  {
   "cell_type": "code",
   "execution_count": 15,
   "metadata": {},
   "outputs": [
    {
     "name": "stderr",
     "output_type": "stream",
     "text": [
      "C:\\Users\\ideapad 330\\Anaconda3\\lib\\site-packages\\ipykernel\\ipkernel.py:287: DeprecationWarning: `should_run_async` will not call `transform_cell` automatically in the future. Please pass the result to `transformed_cell` argument and any exception that happen during thetransform in `preprocessing_exc_tuple` in IPython 7.17 and above.\n",
      "  and should_run_async(code)\n"
     ]
    }
   ],
   "source": [
    "problem = cp.Problem(objective, constraints)"
   ]
  },
  {
   "cell_type": "markdown",
   "metadata": {},
   "source": [
    "Solve optimisation problem for each parameter combination"
   ]
  },
  {
   "cell_type": "code",
   "execution_count": 17,
   "metadata": {},
   "outputs": [
    {
     "ename": "SolverError",
     "evalue": "Either candidate conic solvers (['GLPK_MI']) do not support the cones output by the problem (SOC, NonNeg), or there are not enough constraints in the problem.",
     "output_type": "error",
     "traceback": [
      "\u001b[1;31m---------------------------------------------------------------------------\u001b[0m",
      "\u001b[1;31mSolverError\u001b[0m                               Traceback (most recent call last)",
      "\u001b[1;32m<ipython-input-17-e2c43a9a2a1b>\u001b[0m in \u001b[0;36m<module>\u001b[1;34m\u001b[0m\n\u001b[0;32m      6\u001b[0m         \u001b[0mthreshold\u001b[0m\u001b[1;33m.\u001b[0m\u001b[0mvalue\u001b[0m \u001b[1;33m=\u001b[0m \u001b[0mthreshold_value\u001b[0m\u001b[1;33m\u001b[0m\u001b[1;33m\u001b[0m\u001b[0m\n\u001b[0;32m      7\u001b[0m         \u001b[0mk\u001b[0m\u001b[1;33m.\u001b[0m\u001b[0mvalue\u001b[0m \u001b[1;33m=\u001b[0m \u001b[0mk_value\u001b[0m\u001b[1;33m\u001b[0m\u001b[1;33m\u001b[0m\u001b[0m\n\u001b[1;32m----> 8\u001b[1;33m         \u001b[0mproblem\u001b[0m\u001b[1;33m.\u001b[0m\u001b[0msolve\u001b[0m\u001b[1;33m(\u001b[0m\u001b[1;33m)\u001b[0m\u001b[1;33m\u001b[0m\u001b[1;33m\u001b[0m\u001b[0m\n\u001b[0m\u001b[0;32m      9\u001b[0m         \u001b[1;32mif\u001b[0m \u001b[0mproblem\u001b[0m\u001b[1;33m.\u001b[0m\u001b[0mstatus\u001b[0m \u001b[1;33m!=\u001b[0m \u001b[1;34m'optimal'\u001b[0m\u001b[1;33m:\u001b[0m \u001b[1;32mcontinue\u001b[0m\u001b[1;33m\u001b[0m\u001b[1;33m\u001b[0m\u001b[0m\n\u001b[0;32m     10\u001b[0m         \u001b[0mcounts\u001b[0m \u001b[1;33m=\u001b[0m \u001b[0mx\u001b[0m\u001b[1;33m.\u001b[0m\u001b[0mvalue\u001b[0m\u001b[1;33m.\u001b[0m\u001b[0mround\u001b[0m\u001b[1;33m(\u001b[0m\u001b[1;33m)\u001b[0m\u001b[1;33m\u001b[0m\u001b[1;33m\u001b[0m\u001b[0m\n",
      "\u001b[1;32m~\\Anaconda3\\lib\\site-packages\\cvxpy\\problems\\problem.py\u001b[0m in \u001b[0;36msolve\u001b[1;34m(self, *args, **kwargs)\u001b[0m\n\u001b[0;32m    394\u001b[0m         \u001b[1;32melse\u001b[0m\u001b[1;33m:\u001b[0m\u001b[1;33m\u001b[0m\u001b[1;33m\u001b[0m\u001b[0m\n\u001b[0;32m    395\u001b[0m             \u001b[0msolve_func\u001b[0m \u001b[1;33m=\u001b[0m \u001b[0mProblem\u001b[0m\u001b[1;33m.\u001b[0m\u001b[0m_solve\u001b[0m\u001b[1;33m\u001b[0m\u001b[1;33m\u001b[0m\u001b[0m\n\u001b[1;32m--> 396\u001b[1;33m         \u001b[1;32mreturn\u001b[0m \u001b[0msolve_func\u001b[0m\u001b[1;33m(\u001b[0m\u001b[0mself\u001b[0m\u001b[1;33m,\u001b[0m \u001b[1;33m*\u001b[0m\u001b[0margs\u001b[0m\u001b[1;33m,\u001b[0m \u001b[1;33m**\u001b[0m\u001b[0mkwargs\u001b[0m\u001b[1;33m)\u001b[0m\u001b[1;33m\u001b[0m\u001b[1;33m\u001b[0m\u001b[0m\n\u001b[0m\u001b[0;32m    397\u001b[0m \u001b[1;33m\u001b[0m\u001b[0m\n\u001b[0;32m    398\u001b[0m     \u001b[1;33m@\u001b[0m\u001b[0mclassmethod\u001b[0m\u001b[1;33m\u001b[0m\u001b[1;33m\u001b[0m\u001b[0m\n",
      "\u001b[1;32m~\\Anaconda3\\lib\\site-packages\\cvxpy\\problems\\problem.py\u001b[0m in \u001b[0;36m_solve\u001b[1;34m(self, solver, warm_start, verbose, gp, qcp, requires_grad, enforce_dpp, **kwargs)\u001b[0m\n\u001b[0;32m    749\u001b[0m \u001b[1;33m\u001b[0m\u001b[0m\n\u001b[0;32m    750\u001b[0m         data, solving_chain, inverse_data = self.get_problem_data(\n\u001b[1;32m--> 751\u001b[1;33m             solver, gp, enforce_dpp)\n\u001b[0m\u001b[0;32m    752\u001b[0m         solution = solving_chain.solve_via_data(\n\u001b[0;32m    753\u001b[0m             self, data, warm_start, verbose, kwargs)\n",
      "\u001b[1;32m~\\Anaconda3\\lib\\site-packages\\cvxpy\\problems\\problem.py\u001b[0m in \u001b[0;36mget_problem_data\u001b[1;34m(self, solver, gp, enforce_dpp)\u001b[0m\n\u001b[0;32m    498\u001b[0m             \u001b[0mself\u001b[0m\u001b[1;33m.\u001b[0m\u001b[0m_cache\u001b[0m\u001b[1;33m.\u001b[0m\u001b[0minvalidate\u001b[0m\u001b[1;33m(\u001b[0m\u001b[1;33m)\u001b[0m\u001b[1;33m\u001b[0m\u001b[1;33m\u001b[0m\u001b[0m\n\u001b[0;32m    499\u001b[0m             solving_chain = self._construct_chain(\n\u001b[1;32m--> 500\u001b[1;33m                 solver=solver, gp=gp, enforce_dpp=enforce_dpp)\n\u001b[0m\u001b[0;32m    501\u001b[0m             \u001b[0mself\u001b[0m\u001b[1;33m.\u001b[0m\u001b[0m_cache\u001b[0m\u001b[1;33m.\u001b[0m\u001b[0mkey\u001b[0m \u001b[1;33m=\u001b[0m \u001b[0mkey\u001b[0m\u001b[1;33m\u001b[0m\u001b[1;33m\u001b[0m\u001b[0m\n\u001b[0;32m    502\u001b[0m             \u001b[0mself\u001b[0m\u001b[1;33m.\u001b[0m\u001b[0m_cache\u001b[0m\u001b[1;33m.\u001b[0m\u001b[0msolving_chain\u001b[0m \u001b[1;33m=\u001b[0m \u001b[0msolving_chain\u001b[0m\u001b[1;33m\u001b[0m\u001b[1;33m\u001b[0m\u001b[0m\n",
      "\u001b[1;32m~\\Anaconda3\\lib\\site-packages\\cvxpy\\problems\\problem.py\u001b[0m in \u001b[0;36m_construct_chain\u001b[1;34m(self, solver, gp, enforce_dpp)\u001b[0m\n\u001b[0;32m    657\u001b[0m         \u001b[0mcandidate_solvers\u001b[0m \u001b[1;33m=\u001b[0m \u001b[0mself\u001b[0m\u001b[1;33m.\u001b[0m\u001b[0m_find_candidate_solvers\u001b[0m\u001b[1;33m(\u001b[0m\u001b[0msolver\u001b[0m\u001b[1;33m=\u001b[0m\u001b[0msolver\u001b[0m\u001b[1;33m,\u001b[0m \u001b[0mgp\u001b[0m\u001b[1;33m=\u001b[0m\u001b[0mgp\u001b[0m\u001b[1;33m)\u001b[0m\u001b[1;33m\u001b[0m\u001b[1;33m\u001b[0m\u001b[0m\n\u001b[0;32m    658\u001b[0m         return construct_solving_chain(self, candidate_solvers, gp=gp,\n\u001b[1;32m--> 659\u001b[1;33m                                        enforce_dpp=enforce_dpp)\n\u001b[0m\u001b[0;32m    660\u001b[0m \u001b[1;33m\u001b[0m\u001b[0m\n\u001b[0;32m    661\u001b[0m     \u001b[1;32mdef\u001b[0m \u001b[0m_invalidate_cache\u001b[0m\u001b[1;33m(\u001b[0m\u001b[0mself\u001b[0m\u001b[1;33m)\u001b[0m\u001b[1;33m:\u001b[0m\u001b[1;33m\u001b[0m\u001b[1;33m\u001b[0m\u001b[0m\n",
      "\u001b[1;32m~\\Anaconda3\\lib\\site-packages\\cvxpy\\reductions\\solvers\\solving_chain.py\u001b[0m in \u001b[0;36mconstruct_solving_chain\u001b[1;34m(problem, candidates, gp, enforce_dpp)\u001b[0m\n\u001b[0;32m    225\u001b[0m                       \"enough constraints in the problem.\" % (\n\u001b[0;32m    226\u001b[0m                           \u001b[0mcandidates\u001b[0m\u001b[1;33m[\u001b[0m\u001b[1;34m'conic_solvers'\u001b[0m\u001b[1;33m]\u001b[0m\u001b[1;33m,\u001b[0m\u001b[1;33m\u001b[0m\u001b[1;33m\u001b[0m\u001b[0m\n\u001b[1;32m--> 227\u001b[1;33m                           \", \".join([cone.__name__ for cone in cones])))\n\u001b[0m\u001b[0;32m    228\u001b[0m \u001b[1;33m\u001b[0m\u001b[0m\n\u001b[0;32m    229\u001b[0m \u001b[1;33m\u001b[0m\u001b[0m\n",
      "\u001b[1;31mSolverError\u001b[0m: Either candidate conic solvers (['GLPK_MI']) do not support the cones output by the problem (SOC, NonNeg), or there are not enough constraints in the problem."
     ]
    }
   ],
   "source": [
    "z_values = []\n",
    "k_values = np.arange(1000, 5000, 1000)\n",
    "threshold_values = np.arange(1, 5.5, 0.5)\n",
    "for threshold_value in threshold_values:\n",
    "    for k_value in k_values:\n",
    "        threshold.value = threshold_value\n",
    "        k.value = k_value\n",
    "        problem.solve()\n",
    "        if problem.status != 'optimal': continue\n",
    "        counts = x.value.round()\n",
    "        investments = p*counts\n",
    "        returns = mu@investments[0]\n",
    "        z_values.append(returns)"
   ]
  },
  {
   "cell_type": "markdown",
   "metadata": {},
   "source": [
    "## 4 Evaluation<a id=\"4\"></a>"
   ]
  },
  {
   "cell_type": "markdown",
   "metadata": {},
   "source": [
    "### 4.1 Parameterised return<a id=\"4.1\"></a>"
   ]
  },
  {
   "cell_type": "markdown",
   "metadata": {},
   "source": [
    "Plot expected portfolio return as a function of portfolio variance and maximum single-asset allocation"
   ]
  },
  {
   "cell_type": "code",
   "execution_count": null,
   "metadata": {},
   "outputs": [],
   "source": [
    "if len(z_values) == 0:\n",
    "    print('No optimal solutions')\n",
    "else:\n",
    "    Z = np.reshape(z_values, (len(k_values), len(threshold_values)))\n",
    "    figure = plt.figure(figsize = (12,10))\n",
    "    axes = figure.add_subplot(111, projection='3d')\n",
    "    for i in range(len(k_values))[::-1]:\n",
    "        c = cm.jet(i/float(len(k_values)))\n",
    "        axes.bar(\n",
    "            threshold_values,\n",
    "            Z[i,:],\n",
    "            zs=k_values[i],\n",
    "            zdir='y',\n",
    "            width=0.4\n",
    "        )\n",
    "    axes.set_xlabel('Portfolio variance')\n",
    "    axes.set_ylabel('Maximum single-asset allocation')\n",
    "    axes.set_zlabel('Portfolio return')\n",
    "    axes.set_title('Expected portfolio return vs. portfolio variance and maximum single-asset allocation')\n",
    "    plt.show()"
   ]
  },
  {
   "cell_type": "markdown",
   "metadata": {},
   "source": [
    "### 4.2 Optimal portfolio<a id=\"4.2\"></a>"
   ]
  },
  {
   "cell_type": "markdown",
   "metadata": {},
   "source": [
    "Calculate optimal portfolio using highest variance and maximum single-asset allocation"
   ]
  },
  {
   "cell_type": "code",
   "execution_count": null,
   "metadata": {},
   "outputs": [],
   "source": [
    "stocks_optimal = np.array(stocks)[np.where(counts > 0)]\n",
    "counts_optimal = counts[counts>0]\n",
    "prices_optimal = np.around(np.array(p), 2)[0][np.where(counts > 0)]\n",
    "investments_optimal = np.around(investments, 2)[investments > 0]\n",
    "capital_optimal = np.around(counts_optimal@prices_optimal, 2)\n",
    "risk_optimal = np.around(counts.T@sigma@counts, 2)\n",
    "return_optimal = np.around(52*returns/capital_optimal, 3)"
   ]
  },
  {
   "cell_type": "markdown",
   "metadata": {},
   "source": [
    "Print results"
   ]
  },
  {
   "cell_type": "code",
   "execution_count": null,
   "metadata": {},
   "outputs": [],
   "source": [
    "print('Stocks:\\t\\t', stocks_optimal)\n",
    "print('Counts:\\t\\t', counts_optimal)\n",
    "print('Prices:\\t\\t', prices_optimal)\n",
    "print('Investments:\\t', investments_optimal)\n",
    "print('Capital:\\t', capital_optimal)\n",
    "print('Return:\\t\\t', return_optimal)\n",
    "print('Risk:\\t\\t', risk_optimal)"
   ]
  },
  {
   "cell_type": "markdown",
   "metadata": {},
   "source": [
    "## 5 Conclusion<a id=\"5\"></a>"
   ]
  },
  {
   "cell_type": "markdown",
   "metadata": {},
   "source": [
    "CSL and FPH, both growth companies in the Australian biotechnology sector, dominate the portfolio making up more than 80% of the total investment. While the expected portfolio return may have been maximised for a given portfolio variance based on historical price data, a more risk-averse portfolio will require further diversification. The expected return is based on past prices which is not a reasonable indicator of future performance."
   ]
  }
 ],
 "metadata": {
  "kernelspec": {
   "display_name": "Python 3",
   "language": "python",
   "name": "python3"
  },
  "language_info": {
   "codemirror_mode": {
    "name": "ipython",
    "version": 3
   },
   "file_extension": ".py",
   "mimetype": "text/x-python",
   "name": "python",
   "nbconvert_exporter": "python",
   "pygments_lexer": "ipython3",
   "version": "3.7.4"
  }
 },
 "nbformat": 4,
 "nbformat_minor": 4
}
