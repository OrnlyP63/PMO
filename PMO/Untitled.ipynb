{
 "cells": [
  {
   "cell_type": "code",
   "execution_count": 1,
   "metadata": {},
   "outputs": [],
   "source": [
    "import os                               # Operating system\n",
    "import math                             # Mathematics\n",
    "import numpy as np                      # Arrays\n",
    "import pandas as pd                     # Dataframes\n",
    "import matplotlib.pyplot as plt         # Graphs\n",
    "from matplotlib import cm               # Colours\n",
    "import scipy                            # Scientific computing"
   ]
  },
  {
   "cell_type": "code",
   "execution_count": 2,
   "metadata": {},
   "outputs": [],
   "source": [
    "stocks = [stock.split('.')[0] for stock in sorted(os.listdir('archive'))]"
   ]
  },
  {
   "cell_type": "code",
   "execution_count": 3,
   "metadata": {},
   "outputs": [
    {
     "name": "stdout",
     "output_type": "stream",
     "text": [
      "['A2M', 'AGL', 'ALL', 'ALQ', 'ALU', 'ALX', 'AMC', 'AMP', 'ANN', 'ANZ', 'APA', 'APT', 'AST', 'ASX', 'AWC', 'AZJ', 'BEN', 'BHP', 'BLD', 'BOQ', 'BPT', 'BSL', 'BXB', 'CAR', 'CBA', 'CCL', 'CGF', 'CHC', 'CIM', 'COH', 'COL', 'CPU', 'CSL', 'CTX', 'CWN', 'CWY', 'DMP', 'DOW', 'DXS', 'EVN', 'FBU', 'FLT', 'FMG', 'FPH', 'GMG', 'GOZ', 'GPT', 'HVN', 'IAG', 'IEL', 'ILU', 'IPL', 'JBH', 'JHX', 'LLC', 'MFG', 'MGR', 'MPL', 'MQG', 'NAB', 'NCM', 'NST', 'ORG', 'ORI', 'OSH', 'QAN', 'QBE', 'QUB', 'REA', 'RHC', 'RIO', 'RMD', 'S32', 'SAR', 'SCG', 'SEK', 'SGP', 'SGR', 'SHL', 'SKI', 'SOL', 'SPK', 'STO', 'SUN', 'SVW', 'SYD', 'TAH', 'TCL', 'TLS', 'TPM', 'TWE', 'VCX', 'VEA', 'WBC', 'WES', 'WOR', 'WOW', 'WPL', 'WTC', 'XRO']\n"
     ]
    }
   ],
   "source": [
    "print(stocks)"
   ]
  },
  {
   "cell_type": "code",
   "execution_count": 4,
   "metadata": {},
   "outputs": [
    {
     "data": {
      "text/plain": [
       "100"
      ]
     },
     "execution_count": 4,
     "metadata": {},
     "output_type": "execute_result"
    }
   ],
   "source": [
    "len(stocks)"
   ]
  },
  {
   "cell_type": "code",
   "execution_count": 5,
   "metadata": {},
   "outputs": [],
   "source": [
    "ex_stock = pd.read_csv('archive/A2M.csv')"
   ]
  },
  {
   "cell_type": "code",
   "execution_count": 6,
   "metadata": {},
   "outputs": [
    {
     "data": {
      "text/html": [
       "<div>\n",
       "<style scoped>\n",
       "    .dataframe tbody tr th:only-of-type {\n",
       "        vertical-align: middle;\n",
       "    }\n",
       "\n",
       "    .dataframe tbody tr th {\n",
       "        vertical-align: top;\n",
       "    }\n",
       "\n",
       "    .dataframe thead th {\n",
       "        text-align: right;\n",
       "    }\n",
       "</style>\n",
       "<table border=\"1\" class=\"dataframe\">\n",
       "  <thead>\n",
       "    <tr style=\"text-align: right;\">\n",
       "      <th></th>\n",
       "      <th>Date</th>\n",
       "      <th>Open</th>\n",
       "      <th>High</th>\n",
       "      <th>Low</th>\n",
       "      <th>Close</th>\n",
       "      <th>Adj Close</th>\n",
       "      <th>Volume</th>\n",
       "    </tr>\n",
       "  </thead>\n",
       "  <tbody>\n",
       "    <tr>\n",
       "      <th>0</th>\n",
       "      <td>2015-03-31</td>\n",
       "      <td>0.555</td>\n",
       "      <td>0.595</td>\n",
       "      <td>0.530</td>\n",
       "      <td>0.565</td>\n",
       "      <td>0.565</td>\n",
       "      <td>4816294</td>\n",
       "    </tr>\n",
       "    <tr>\n",
       "      <th>1</th>\n",
       "      <td>2015-04-01</td>\n",
       "      <td>0.575</td>\n",
       "      <td>0.580</td>\n",
       "      <td>0.555</td>\n",
       "      <td>0.565</td>\n",
       "      <td>0.565</td>\n",
       "      <td>4376660</td>\n",
       "    </tr>\n",
       "    <tr>\n",
       "      <th>2</th>\n",
       "      <td>2015-04-02</td>\n",
       "      <td>0.560</td>\n",
       "      <td>0.565</td>\n",
       "      <td>0.535</td>\n",
       "      <td>0.555</td>\n",
       "      <td>0.555</td>\n",
       "      <td>2779640</td>\n",
       "    </tr>\n",
       "    <tr>\n",
       "      <th>3</th>\n",
       "      <td>2015-04-07</td>\n",
       "      <td>0.545</td>\n",
       "      <td>0.550</td>\n",
       "      <td>0.540</td>\n",
       "      <td>0.545</td>\n",
       "      <td>0.545</td>\n",
       "      <td>392179</td>\n",
       "    </tr>\n",
       "    <tr>\n",
       "      <th>4</th>\n",
       "      <td>2015-04-08</td>\n",
       "      <td>0.545</td>\n",
       "      <td>0.545</td>\n",
       "      <td>0.530</td>\n",
       "      <td>0.540</td>\n",
       "      <td>0.540</td>\n",
       "      <td>668446</td>\n",
       "    </tr>\n",
       "  </tbody>\n",
       "</table>\n",
       "</div>"
      ],
      "text/plain": [
       "         Date   Open   High    Low  Close  Adj Close   Volume\n",
       "0  2015-03-31  0.555  0.595  0.530  0.565      0.565  4816294\n",
       "1  2015-04-01  0.575  0.580  0.555  0.565      0.565  4376660\n",
       "2  2015-04-02  0.560  0.565  0.535  0.555      0.555  2779640\n",
       "3  2015-04-07  0.545  0.550  0.540  0.545      0.545   392179\n",
       "4  2015-04-08  0.545  0.545  0.530  0.540      0.540   668446"
      ]
     },
     "execution_count": 6,
     "metadata": {},
     "output_type": "execute_result"
    }
   ],
   "source": [
    "ex_stock.head()"
   ]
  },
  {
   "cell_type": "code",
   "execution_count": 7,
   "metadata": {},
   "outputs": [
    {
     "data": {
      "text/html": [
       "<div>\n",
       "<style scoped>\n",
       "    .dataframe tbody tr th:only-of-type {\n",
       "        vertical-align: middle;\n",
       "    }\n",
       "\n",
       "    .dataframe tbody tr th {\n",
       "        vertical-align: top;\n",
       "    }\n",
       "\n",
       "    .dataframe thead th {\n",
       "        text-align: right;\n",
       "    }\n",
       "</style>\n",
       "<table border=\"1\" class=\"dataframe\">\n",
       "  <thead>\n",
       "    <tr style=\"text-align: right;\">\n",
       "      <th></th>\n",
       "      <th>Date</th>\n",
       "      <th>Open</th>\n",
       "      <th>High</th>\n",
       "      <th>Low</th>\n",
       "      <th>Close</th>\n",
       "      <th>Adj Close</th>\n",
       "      <th>Volume</th>\n",
       "    </tr>\n",
       "  </thead>\n",
       "  <tbody>\n",
       "    <tr>\n",
       "      <th>1264</th>\n",
       "      <td>2020-03-26</td>\n",
       "      <td>16.000000</td>\n",
       "      <td>16.490000</td>\n",
       "      <td>15.720000</td>\n",
       "      <td>16.000000</td>\n",
       "      <td>16.000000</td>\n",
       "      <td>4336588</td>\n",
       "    </tr>\n",
       "    <tr>\n",
       "      <th>1265</th>\n",
       "      <td>2020-03-27</td>\n",
       "      <td>16.570000</td>\n",
       "      <td>16.650000</td>\n",
       "      <td>15.870000</td>\n",
       "      <td>15.870000</td>\n",
       "      <td>15.870000</td>\n",
       "      <td>4379370</td>\n",
       "    </tr>\n",
       "    <tr>\n",
       "      <th>1266</th>\n",
       "      <td>2020-03-30</td>\n",
       "      <td>15.660000</td>\n",
       "      <td>16.879999</td>\n",
       "      <td>15.660000</td>\n",
       "      <td>16.879999</td>\n",
       "      <td>16.879999</td>\n",
       "      <td>3398048</td>\n",
       "    </tr>\n",
       "    <tr>\n",
       "      <th>1267</th>\n",
       "      <td>2020-03-31</td>\n",
       "      <td>16.950001</td>\n",
       "      <td>17.040001</td>\n",
       "      <td>16.379999</td>\n",
       "      <td>16.600000</td>\n",
       "      <td>16.600000</td>\n",
       "      <td>4370583</td>\n",
       "    </tr>\n",
       "    <tr>\n",
       "      <th>1268</th>\n",
       "      <td>2020-04-01</td>\n",
       "      <td>16.600000</td>\n",
       "      <td>16.990000</td>\n",
       "      <td>16.570000</td>\n",
       "      <td>16.820000</td>\n",
       "      <td>16.820000</td>\n",
       "      <td>4046347</td>\n",
       "    </tr>\n",
       "  </tbody>\n",
       "</table>\n",
       "</div>"
      ],
      "text/plain": [
       "            Date       Open       High        Low      Close  Adj Close  \\\n",
       "1264  2020-03-26  16.000000  16.490000  15.720000  16.000000  16.000000   \n",
       "1265  2020-03-27  16.570000  16.650000  15.870000  15.870000  15.870000   \n",
       "1266  2020-03-30  15.660000  16.879999  15.660000  16.879999  16.879999   \n",
       "1267  2020-03-31  16.950001  17.040001  16.379999  16.600000  16.600000   \n",
       "1268  2020-04-01  16.600000  16.990000  16.570000  16.820000  16.820000   \n",
       "\n",
       "       Volume  \n",
       "1264  4336588  \n",
       "1265  4379370  \n",
       "1266  3398048  \n",
       "1267  4370583  \n",
       "1268  4046347  "
      ]
     },
     "execution_count": 7,
     "metadata": {},
     "output_type": "execute_result"
    }
   ],
   "source": [
    "ex_stock.tail()"
   ]
  },
  {
   "cell_type": "code",
   "execution_count": 8,
   "metadata": {},
   "outputs": [
    {
     "data": {
      "text/html": [
       "<div>\n",
       "<style scoped>\n",
       "    .dataframe tbody tr th:only-of-type {\n",
       "        vertical-align: middle;\n",
       "    }\n",
       "\n",
       "    .dataframe tbody tr th {\n",
       "        vertical-align: top;\n",
       "    }\n",
       "\n",
       "    .dataframe thead th {\n",
       "        text-align: right;\n",
       "    }\n",
       "</style>\n",
       "<table border=\"1\" class=\"dataframe\">\n",
       "  <thead>\n",
       "    <tr style=\"text-align: right;\">\n",
       "      <th></th>\n",
       "      <th>Open</th>\n",
       "      <th>High</th>\n",
       "      <th>Low</th>\n",
       "      <th>Close</th>\n",
       "      <th>Adj Close</th>\n",
       "      <th>Volume</th>\n",
       "    </tr>\n",
       "  </thead>\n",
       "  <tbody>\n",
       "    <tr>\n",
       "      <th>count</th>\n",
       "      <td>1269.000000</td>\n",
       "      <td>1269.000000</td>\n",
       "      <td>1269.000000</td>\n",
       "      <td>1269.000000</td>\n",
       "      <td>1269.000000</td>\n",
       "      <td>1.269000e+03</td>\n",
       "    </tr>\n",
       "    <tr>\n",
       "      <th>mean</th>\n",
       "      <td>6.879588</td>\n",
       "      <td>6.988677</td>\n",
       "      <td>6.779320</td>\n",
       "      <td>6.884976</td>\n",
       "      <td>6.884976</td>\n",
       "      <td>4.798958e+06</td>\n",
       "    </tr>\n",
       "    <tr>\n",
       "      <th>std</th>\n",
       "      <td>5.368422</td>\n",
       "      <td>5.450933</td>\n",
       "      <td>5.298240</td>\n",
       "      <td>5.377636</td>\n",
       "      <td>5.377636</td>\n",
       "      <td>5.239342e+06</td>\n",
       "    </tr>\n",
       "    <tr>\n",
       "      <th>min</th>\n",
       "      <td>0.470000</td>\n",
       "      <td>0.475000</td>\n",
       "      <td>0.455000</td>\n",
       "      <td>0.465000</td>\n",
       "      <td>0.465000</td>\n",
       "      <td>0.000000e+00</td>\n",
       "    </tr>\n",
       "    <tr>\n",
       "      <th>25%</th>\n",
       "      <td>1.760000</td>\n",
       "      <td>1.795000</td>\n",
       "      <td>1.735000</td>\n",
       "      <td>1.765000</td>\n",
       "      <td>1.765000</td>\n",
       "      <td>2.239971e+06</td>\n",
       "    </tr>\n",
       "    <tr>\n",
       "      <th>50%</th>\n",
       "      <td>5.920000</td>\n",
       "      <td>6.040000</td>\n",
       "      <td>5.880000</td>\n",
       "      <td>5.990000</td>\n",
       "      <td>5.990000</td>\n",
       "      <td>3.530877e+06</td>\n",
       "    </tr>\n",
       "    <tr>\n",
       "      <th>75%</th>\n",
       "      <td>12.000000</td>\n",
       "      <td>12.160000</td>\n",
       "      <td>11.830000</td>\n",
       "      <td>11.990000</td>\n",
       "      <td>11.990000</td>\n",
       "      <td>5.355630e+06</td>\n",
       "    </tr>\n",
       "    <tr>\n",
       "      <th>max</th>\n",
       "      <td>17.200001</td>\n",
       "      <td>17.299999</td>\n",
       "      <td>17.030001</td>\n",
       "      <td>17.129999</td>\n",
       "      <td>17.129999</td>\n",
       "      <td>6.139730e+07</td>\n",
       "    </tr>\n",
       "  </tbody>\n",
       "</table>\n",
       "</div>"
      ],
      "text/plain": [
       "              Open         High          Low        Close    Adj Close  \\\n",
       "count  1269.000000  1269.000000  1269.000000  1269.000000  1269.000000   \n",
       "mean      6.879588     6.988677     6.779320     6.884976     6.884976   \n",
       "std       5.368422     5.450933     5.298240     5.377636     5.377636   \n",
       "min       0.470000     0.475000     0.455000     0.465000     0.465000   \n",
       "25%       1.760000     1.795000     1.735000     1.765000     1.765000   \n",
       "50%       5.920000     6.040000     5.880000     5.990000     5.990000   \n",
       "75%      12.000000    12.160000    11.830000    11.990000    11.990000   \n",
       "max      17.200001    17.299999    17.030001    17.129999    17.129999   \n",
       "\n",
       "             Volume  \n",
       "count  1.269000e+03  \n",
       "mean   4.798958e+06  \n",
       "std    5.239342e+06  \n",
       "min    0.000000e+00  \n",
       "25%    2.239971e+06  \n",
       "50%    3.530877e+06  \n",
       "75%    5.355630e+06  \n",
       "max    6.139730e+07  "
      ]
     },
     "execution_count": 8,
     "metadata": {},
     "output_type": "execute_result"
    }
   ],
   "source": [
    "ex_stock.describe()"
   ]
  },
  {
   "cell_type": "code",
   "execution_count": 9,
   "metadata": {},
   "outputs": [
    {
     "name": "stdout",
     "output_type": "stream",
     "text": [
      "<class 'pandas.core.frame.DataFrame'>\n",
      "RangeIndex: 1269 entries, 0 to 1268\n",
      "Data columns (total 7 columns):\n",
      " #   Column     Non-Null Count  Dtype  \n",
      "---  ------     --------------  -----  \n",
      " 0   Date       1269 non-null   object \n",
      " 1   Open       1269 non-null   float64\n",
      " 2   High       1269 non-null   float64\n",
      " 3   Low        1269 non-null   float64\n",
      " 4   Close      1269 non-null   float64\n",
      " 5   Adj Close  1269 non-null   float64\n",
      " 6   Volume     1269 non-null   int64  \n",
      "dtypes: float64(5), int64(1), object(1)\n",
      "memory usage: 69.5+ KB\n"
     ]
    }
   ],
   "source": [
    "ex_stock.info()"
   ]
  },
  {
   "cell_type": "code",
   "execution_count": 10,
   "metadata": {},
   "outputs": [],
   "source": [
    "dates = pd.date_range('2000-01-01', '2020-03-31')\n",
    "data = pd.DataFrame({'Time': dates})"
   ]
  },
  {
   "cell_type": "code",
   "execution_count": 11,
   "metadata": {},
   "outputs": [],
   "source": [
    "for s in stocks:\n",
    "    price = pd.read_csv('archive/' + s + '.csv', usecols=['Date', 'Adj Close']) #read file csv\n",
    "    \n",
    "    price['Date'] = pd.to_datetime(price['Date']) #Typecast date\n",
    "    \n",
    "    price.rename(columns={\"Date\": \"Time\", \"Adj Close\": s}, inplace=True) #rename column\n",
    "    \n",
    "    data = pd.merge(data, price, how='left', on=['Time'], sort=False) #merge table"
   ]
  },
  {
   "cell_type": "code",
   "execution_count": 12,
   "metadata": {},
   "outputs": [
    {
     "data": {
      "text/html": [
       "<div>\n",
       "<style scoped>\n",
       "    .dataframe tbody tr th:only-of-type {\n",
       "        vertical-align: middle;\n",
       "    }\n",
       "\n",
       "    .dataframe tbody tr th {\n",
       "        vertical-align: top;\n",
       "    }\n",
       "\n",
       "    .dataframe thead th {\n",
       "        text-align: right;\n",
       "    }\n",
       "</style>\n",
       "<table border=\"1\" class=\"dataframe\">\n",
       "  <thead>\n",
       "    <tr style=\"text-align: right;\">\n",
       "      <th></th>\n",
       "      <th>Time</th>\n",
       "      <th>A2M</th>\n",
       "      <th>AGL</th>\n",
       "      <th>ALL</th>\n",
       "      <th>ALQ</th>\n",
       "      <th>ALU</th>\n",
       "      <th>ALX</th>\n",
       "      <th>AMC</th>\n",
       "      <th>AMP</th>\n",
       "      <th>ANN</th>\n",
       "      <th>...</th>\n",
       "      <th>TWE</th>\n",
       "      <th>VCX</th>\n",
       "      <th>VEA</th>\n",
       "      <th>WBC</th>\n",
       "      <th>WES</th>\n",
       "      <th>WOR</th>\n",
       "      <th>WOW</th>\n",
       "      <th>WPL</th>\n",
       "      <th>WTC</th>\n",
       "      <th>XRO</th>\n",
       "    </tr>\n",
       "  </thead>\n",
       "  <tbody>\n",
       "    <tr>\n",
       "      <th>0</th>\n",
       "      <td>2000-01-01</td>\n",
       "      <td>NaN</td>\n",
       "      <td>NaN</td>\n",
       "      <td>NaN</td>\n",
       "      <td>NaN</td>\n",
       "      <td>NaN</td>\n",
       "      <td>NaN</td>\n",
       "      <td>NaN</td>\n",
       "      <td>NaN</td>\n",
       "      <td>NaN</td>\n",
       "      <td>...</td>\n",
       "      <td>NaN</td>\n",
       "      <td>NaN</td>\n",
       "      <td>NaN</td>\n",
       "      <td>NaN</td>\n",
       "      <td>NaN</td>\n",
       "      <td>NaN</td>\n",
       "      <td>NaN</td>\n",
       "      <td>NaN</td>\n",
       "      <td>NaN</td>\n",
       "      <td>NaN</td>\n",
       "    </tr>\n",
       "    <tr>\n",
       "      <th>1</th>\n",
       "      <td>2000-01-02</td>\n",
       "      <td>NaN</td>\n",
       "      <td>NaN</td>\n",
       "      <td>NaN</td>\n",
       "      <td>NaN</td>\n",
       "      <td>NaN</td>\n",
       "      <td>NaN</td>\n",
       "      <td>NaN</td>\n",
       "      <td>NaN</td>\n",
       "      <td>NaN</td>\n",
       "      <td>...</td>\n",
       "      <td>NaN</td>\n",
       "      <td>NaN</td>\n",
       "      <td>NaN</td>\n",
       "      <td>NaN</td>\n",
       "      <td>NaN</td>\n",
       "      <td>NaN</td>\n",
       "      <td>NaN</td>\n",
       "      <td>NaN</td>\n",
       "      <td>NaN</td>\n",
       "      <td>NaN</td>\n",
       "    </tr>\n",
       "    <tr>\n",
       "      <th>2</th>\n",
       "      <td>2000-01-03</td>\n",
       "      <td>NaN</td>\n",
       "      <td>NaN</td>\n",
       "      <td>NaN</td>\n",
       "      <td>NaN</td>\n",
       "      <td>NaN</td>\n",
       "      <td>NaN</td>\n",
       "      <td>NaN</td>\n",
       "      <td>5.601532</td>\n",
       "      <td>NaN</td>\n",
       "      <td>...</td>\n",
       "      <td>NaN</td>\n",
       "      <td>NaN</td>\n",
       "      <td>NaN</td>\n",
       "      <td>NaN</td>\n",
       "      <td>NaN</td>\n",
       "      <td>NaN</td>\n",
       "      <td>NaN</td>\n",
       "      <td>NaN</td>\n",
       "      <td>NaN</td>\n",
       "      <td>NaN</td>\n",
       "    </tr>\n",
       "    <tr>\n",
       "      <th>3</th>\n",
       "      <td>2000-01-04</td>\n",
       "      <td>NaN</td>\n",
       "      <td>4.665331</td>\n",
       "      <td>2.925006</td>\n",
       "      <td>0.018139</td>\n",
       "      <td>3.357754</td>\n",
       "      <td>NaN</td>\n",
       "      <td>1.461500</td>\n",
       "      <td>5.422170</td>\n",
       "      <td>7.067056</td>\n",
       "      <td>...</td>\n",
       "      <td>NaN</td>\n",
       "      <td>NaN</td>\n",
       "      <td>NaN</td>\n",
       "      <td>3.419256</td>\n",
       "      <td>2.086992</td>\n",
       "      <td>NaN</td>\n",
       "      <td>2.457825</td>\n",
       "      <td>5.309288</td>\n",
       "      <td>NaN</td>\n",
       "      <td>NaN</td>\n",
       "    </tr>\n",
       "    <tr>\n",
       "      <th>4</th>\n",
       "      <td>2000-01-05</td>\n",
       "      <td>NaN</td>\n",
       "      <td>4.606756</td>\n",
       "      <td>2.768106</td>\n",
       "      <td>0.017776</td>\n",
       "      <td>3.147893</td>\n",
       "      <td>NaN</td>\n",
       "      <td>1.440916</td>\n",
       "      <td>5.192115</td>\n",
       "      <td>6.968902</td>\n",
       "      <td>...</td>\n",
       "      <td>NaN</td>\n",
       "      <td>NaN</td>\n",
       "      <td>NaN</td>\n",
       "      <td>3.356248</td>\n",
       "      <td>2.061686</td>\n",
       "      <td>NaN</td>\n",
       "      <td>2.448280</td>\n",
       "      <td>5.267546</td>\n",
       "      <td>NaN</td>\n",
       "      <td>NaN</td>\n",
       "    </tr>\n",
       "  </tbody>\n",
       "</table>\n",
       "<p>5 rows × 101 columns</p>\n",
       "</div>"
      ],
      "text/plain": [
       "        Time  A2M       AGL       ALL       ALQ       ALU  ALX       AMC  \\\n",
       "0 2000-01-01  NaN       NaN       NaN       NaN       NaN  NaN       NaN   \n",
       "1 2000-01-02  NaN       NaN       NaN       NaN       NaN  NaN       NaN   \n",
       "2 2000-01-03  NaN       NaN       NaN       NaN       NaN  NaN       NaN   \n",
       "3 2000-01-04  NaN  4.665331  2.925006  0.018139  3.357754  NaN  1.461500   \n",
       "4 2000-01-05  NaN  4.606756  2.768106  0.017776  3.147893  NaN  1.440916   \n",
       "\n",
       "        AMP       ANN  ...  TWE  VCX  VEA       WBC       WES  WOR       WOW  \\\n",
       "0       NaN       NaN  ...  NaN  NaN  NaN       NaN       NaN  NaN       NaN   \n",
       "1       NaN       NaN  ...  NaN  NaN  NaN       NaN       NaN  NaN       NaN   \n",
       "2  5.601532       NaN  ...  NaN  NaN  NaN       NaN       NaN  NaN       NaN   \n",
       "3  5.422170  7.067056  ...  NaN  NaN  NaN  3.419256  2.086992  NaN  2.457825   \n",
       "4  5.192115  6.968902  ...  NaN  NaN  NaN  3.356248  2.061686  NaN  2.448280   \n",
       "\n",
       "        WPL  WTC  XRO  \n",
       "0       NaN  NaN  NaN  \n",
       "1       NaN  NaN  NaN  \n",
       "2       NaN  NaN  NaN  \n",
       "3  5.309288  NaN  NaN  \n",
       "4  5.267546  NaN  NaN  \n",
       "\n",
       "[5 rows x 101 columns]"
      ]
     },
     "execution_count": 12,
     "metadata": {},
     "output_type": "execute_result"
    }
   ],
   "source": [
    "data.head()"
   ]
  },
  {
   "cell_type": "code",
   "execution_count": 13,
   "metadata": {},
   "outputs": [
    {
     "data": {
      "text/plain": [
       "0       5\n",
       "1       6\n",
       "2       0\n",
       "3       1\n",
       "4       2\n",
       "       ..\n",
       "7391    4\n",
       "7392    5\n",
       "7393    6\n",
       "7394    0\n",
       "7395    1\n",
       "Name: Time, Length: 7396, dtype: int64"
      ]
     },
     "execution_count": 13,
     "metadata": {},
     "output_type": "execute_result"
    }
   ],
   "source": [
    "data['Time'].dt.weekday"
   ]
  },
  {
   "cell_type": "code",
   "execution_count": 14,
   "metadata": {},
   "outputs": [],
   "source": [
    "data = data[data['Time'].dt.weekday < 5]"
   ]
  },
  {
   "cell_type": "code",
   "execution_count": 15,
   "metadata": {},
   "outputs": [
    {
     "data": {
      "text/html": [
       "<div>\n",
       "<style scoped>\n",
       "    .dataframe tbody tr th:only-of-type {\n",
       "        vertical-align: middle;\n",
       "    }\n",
       "\n",
       "    .dataframe tbody tr th {\n",
       "        vertical-align: top;\n",
       "    }\n",
       "\n",
       "    .dataframe thead th {\n",
       "        text-align: right;\n",
       "    }\n",
       "</style>\n",
       "<table border=\"1\" class=\"dataframe\">\n",
       "  <thead>\n",
       "    <tr style=\"text-align: right;\">\n",
       "      <th></th>\n",
       "      <th>Time</th>\n",
       "      <th>A2M</th>\n",
       "      <th>AGL</th>\n",
       "      <th>ALL</th>\n",
       "      <th>ALQ</th>\n",
       "      <th>ALU</th>\n",
       "      <th>ALX</th>\n",
       "      <th>AMC</th>\n",
       "      <th>AMP</th>\n",
       "      <th>ANN</th>\n",
       "      <th>...</th>\n",
       "      <th>TWE</th>\n",
       "      <th>VCX</th>\n",
       "      <th>VEA</th>\n",
       "      <th>WBC</th>\n",
       "      <th>WES</th>\n",
       "      <th>WOR</th>\n",
       "      <th>WOW</th>\n",
       "      <th>WPL</th>\n",
       "      <th>WTC</th>\n",
       "      <th>XRO</th>\n",
       "    </tr>\n",
       "  </thead>\n",
       "  <tbody>\n",
       "    <tr>\n",
       "      <th>2</th>\n",
       "      <td>2000-01-03</td>\n",
       "      <td>NaN</td>\n",
       "      <td>NaN</td>\n",
       "      <td>NaN</td>\n",
       "      <td>NaN</td>\n",
       "      <td>NaN</td>\n",
       "      <td>NaN</td>\n",
       "      <td>NaN</td>\n",
       "      <td>5.601532</td>\n",
       "      <td>NaN</td>\n",
       "      <td>...</td>\n",
       "      <td>NaN</td>\n",
       "      <td>NaN</td>\n",
       "      <td>NaN</td>\n",
       "      <td>NaN</td>\n",
       "      <td>NaN</td>\n",
       "      <td>NaN</td>\n",
       "      <td>NaN</td>\n",
       "      <td>NaN</td>\n",
       "      <td>NaN</td>\n",
       "      <td>NaN</td>\n",
       "    </tr>\n",
       "    <tr>\n",
       "      <th>3</th>\n",
       "      <td>2000-01-04</td>\n",
       "      <td>NaN</td>\n",
       "      <td>4.665331</td>\n",
       "      <td>2.925006</td>\n",
       "      <td>0.018139</td>\n",
       "      <td>3.357754</td>\n",
       "      <td>NaN</td>\n",
       "      <td>1.461500</td>\n",
       "      <td>5.422170</td>\n",
       "      <td>7.067056</td>\n",
       "      <td>...</td>\n",
       "      <td>NaN</td>\n",
       "      <td>NaN</td>\n",
       "      <td>NaN</td>\n",
       "      <td>3.419256</td>\n",
       "      <td>2.086992</td>\n",
       "      <td>NaN</td>\n",
       "      <td>2.457825</td>\n",
       "      <td>5.309288</td>\n",
       "      <td>NaN</td>\n",
       "      <td>NaN</td>\n",
       "    </tr>\n",
       "    <tr>\n",
       "      <th>4</th>\n",
       "      <td>2000-01-05</td>\n",
       "      <td>NaN</td>\n",
       "      <td>4.606756</td>\n",
       "      <td>2.768106</td>\n",
       "      <td>0.017776</td>\n",
       "      <td>3.147893</td>\n",
       "      <td>NaN</td>\n",
       "      <td>1.440916</td>\n",
       "      <td>5.192115</td>\n",
       "      <td>6.968902</td>\n",
       "      <td>...</td>\n",
       "      <td>NaN</td>\n",
       "      <td>NaN</td>\n",
       "      <td>NaN</td>\n",
       "      <td>3.356248</td>\n",
       "      <td>2.061686</td>\n",
       "      <td>NaN</td>\n",
       "      <td>2.448280</td>\n",
       "      <td>5.267546</td>\n",
       "      <td>NaN</td>\n",
       "      <td>NaN</td>\n",
       "    </tr>\n",
       "    <tr>\n",
       "      <th>5</th>\n",
       "      <td>2000-01-06</td>\n",
       "      <td>NaN</td>\n",
       "      <td>4.535735</td>\n",
       "      <td>2.690722</td>\n",
       "      <td>0.017414</td>\n",
       "      <td>3.183872</td>\n",
       "      <td>NaN</td>\n",
       "      <td>1.428563</td>\n",
       "      <td>5.045533</td>\n",
       "      <td>6.772593</td>\n",
       "      <td>...</td>\n",
       "      <td>NaN</td>\n",
       "      <td>NaN</td>\n",
       "      <td>NaN</td>\n",
       "      <td>3.349603</td>\n",
       "      <td>2.063373</td>\n",
       "      <td>NaN</td>\n",
       "      <td>2.443507</td>\n",
       "      <td>5.147910</td>\n",
       "      <td>NaN</td>\n",
       "      <td>NaN</td>\n",
       "    </tr>\n",
       "    <tr>\n",
       "      <th>6</th>\n",
       "      <td>2000-01-07</td>\n",
       "      <td>NaN</td>\n",
       "      <td>4.654961</td>\n",
       "      <td>2.726219</td>\n",
       "      <td>0.017776</td>\n",
       "      <td>3.117912</td>\n",
       "      <td>NaN</td>\n",
       "      <td>1.451209</td>\n",
       "      <td>5.264914</td>\n",
       "      <td>6.739878</td>\n",
       "      <td>...</td>\n",
       "      <td>NaN</td>\n",
       "      <td>NaN</td>\n",
       "      <td>NaN</td>\n",
       "      <td>3.349603</td>\n",
       "      <td>2.068435</td>\n",
       "      <td>NaN</td>\n",
       "      <td>2.424422</td>\n",
       "      <td>5.229499</td>\n",
       "      <td>NaN</td>\n",
       "      <td>NaN</td>\n",
       "    </tr>\n",
       "  </tbody>\n",
       "</table>\n",
       "<p>5 rows × 101 columns</p>\n",
       "</div>"
      ],
      "text/plain": [
       "        Time  A2M       AGL       ALL       ALQ       ALU  ALX       AMC  \\\n",
       "2 2000-01-03  NaN       NaN       NaN       NaN       NaN  NaN       NaN   \n",
       "3 2000-01-04  NaN  4.665331  2.925006  0.018139  3.357754  NaN  1.461500   \n",
       "4 2000-01-05  NaN  4.606756  2.768106  0.017776  3.147893  NaN  1.440916   \n",
       "5 2000-01-06  NaN  4.535735  2.690722  0.017414  3.183872  NaN  1.428563   \n",
       "6 2000-01-07  NaN  4.654961  2.726219  0.017776  3.117912  NaN  1.451209   \n",
       "\n",
       "        AMP       ANN  ...  TWE  VCX  VEA       WBC       WES  WOR       WOW  \\\n",
       "2  5.601532       NaN  ...  NaN  NaN  NaN       NaN       NaN  NaN       NaN   \n",
       "3  5.422170  7.067056  ...  NaN  NaN  NaN  3.419256  2.086992  NaN  2.457825   \n",
       "4  5.192115  6.968902  ...  NaN  NaN  NaN  3.356248  2.061686  NaN  2.448280   \n",
       "5  5.045533  6.772593  ...  NaN  NaN  NaN  3.349603  2.063373  NaN  2.443507   \n",
       "6  5.264914  6.739878  ...  NaN  NaN  NaN  3.349603  2.068435  NaN  2.424422   \n",
       "\n",
       "        WPL  WTC  XRO  \n",
       "2       NaN  NaN  NaN  \n",
       "3  5.309288  NaN  NaN  \n",
       "4  5.267546  NaN  NaN  \n",
       "5  5.147910  NaN  NaN  \n",
       "6  5.229499  NaN  NaN  \n",
       "\n",
       "[5 rows x 101 columns]"
      ]
     },
     "execution_count": 15,
     "metadata": {},
     "output_type": "execute_result"
    }
   ],
   "source": [
    "data.head()"
   ]
  },
  {
   "cell_type": "code",
   "execution_count": 16,
   "metadata": {},
   "outputs": [],
   "source": [
    "data = data.dropna(axis=0, how='all')"
   ]
  },
  {
   "cell_type": "code",
   "execution_count": 17,
   "metadata": {},
   "outputs": [
    {
     "data": {
      "text/html": [
       "<div>\n",
       "<style scoped>\n",
       "    .dataframe tbody tr th:only-of-type {\n",
       "        vertical-align: middle;\n",
       "    }\n",
       "\n",
       "    .dataframe tbody tr th {\n",
       "        vertical-align: top;\n",
       "    }\n",
       "\n",
       "    .dataframe thead th {\n",
       "        text-align: right;\n",
       "    }\n",
       "</style>\n",
       "<table border=\"1\" class=\"dataframe\">\n",
       "  <thead>\n",
       "    <tr style=\"text-align: right;\">\n",
       "      <th></th>\n",
       "      <th>Time</th>\n",
       "      <th>A2M</th>\n",
       "      <th>AGL</th>\n",
       "      <th>ALL</th>\n",
       "      <th>ALQ</th>\n",
       "      <th>ALU</th>\n",
       "      <th>ALX</th>\n",
       "      <th>AMC</th>\n",
       "      <th>AMP</th>\n",
       "      <th>ANN</th>\n",
       "      <th>...</th>\n",
       "      <th>TWE</th>\n",
       "      <th>VCX</th>\n",
       "      <th>VEA</th>\n",
       "      <th>WBC</th>\n",
       "      <th>WES</th>\n",
       "      <th>WOR</th>\n",
       "      <th>WOW</th>\n",
       "      <th>WPL</th>\n",
       "      <th>WTC</th>\n",
       "      <th>XRO</th>\n",
       "    </tr>\n",
       "  </thead>\n",
       "  <tbody>\n",
       "    <tr>\n",
       "      <th>2</th>\n",
       "      <td>2000-01-03</td>\n",
       "      <td>NaN</td>\n",
       "      <td>NaN</td>\n",
       "      <td>NaN</td>\n",
       "      <td>NaN</td>\n",
       "      <td>NaN</td>\n",
       "      <td>NaN</td>\n",
       "      <td>NaN</td>\n",
       "      <td>5.601532</td>\n",
       "      <td>NaN</td>\n",
       "      <td>...</td>\n",
       "      <td>NaN</td>\n",
       "      <td>NaN</td>\n",
       "      <td>NaN</td>\n",
       "      <td>NaN</td>\n",
       "      <td>NaN</td>\n",
       "      <td>NaN</td>\n",
       "      <td>NaN</td>\n",
       "      <td>NaN</td>\n",
       "      <td>NaN</td>\n",
       "      <td>NaN</td>\n",
       "    </tr>\n",
       "    <tr>\n",
       "      <th>3</th>\n",
       "      <td>2000-01-04</td>\n",
       "      <td>NaN</td>\n",
       "      <td>4.665331</td>\n",
       "      <td>2.925006</td>\n",
       "      <td>0.018139</td>\n",
       "      <td>3.357754</td>\n",
       "      <td>NaN</td>\n",
       "      <td>1.461500</td>\n",
       "      <td>5.422170</td>\n",
       "      <td>7.067056</td>\n",
       "      <td>...</td>\n",
       "      <td>NaN</td>\n",
       "      <td>NaN</td>\n",
       "      <td>NaN</td>\n",
       "      <td>3.419256</td>\n",
       "      <td>2.086992</td>\n",
       "      <td>NaN</td>\n",
       "      <td>2.457825</td>\n",
       "      <td>5.309288</td>\n",
       "      <td>NaN</td>\n",
       "      <td>NaN</td>\n",
       "    </tr>\n",
       "    <tr>\n",
       "      <th>4</th>\n",
       "      <td>2000-01-05</td>\n",
       "      <td>NaN</td>\n",
       "      <td>4.606756</td>\n",
       "      <td>2.768106</td>\n",
       "      <td>0.017776</td>\n",
       "      <td>3.147893</td>\n",
       "      <td>NaN</td>\n",
       "      <td>1.440916</td>\n",
       "      <td>5.192115</td>\n",
       "      <td>6.968902</td>\n",
       "      <td>...</td>\n",
       "      <td>NaN</td>\n",
       "      <td>NaN</td>\n",
       "      <td>NaN</td>\n",
       "      <td>3.356248</td>\n",
       "      <td>2.061686</td>\n",
       "      <td>NaN</td>\n",
       "      <td>2.448280</td>\n",
       "      <td>5.267546</td>\n",
       "      <td>NaN</td>\n",
       "      <td>NaN</td>\n",
       "    </tr>\n",
       "    <tr>\n",
       "      <th>5</th>\n",
       "      <td>2000-01-06</td>\n",
       "      <td>NaN</td>\n",
       "      <td>4.535735</td>\n",
       "      <td>2.690722</td>\n",
       "      <td>0.017414</td>\n",
       "      <td>3.183872</td>\n",
       "      <td>NaN</td>\n",
       "      <td>1.428563</td>\n",
       "      <td>5.045533</td>\n",
       "      <td>6.772593</td>\n",
       "      <td>...</td>\n",
       "      <td>NaN</td>\n",
       "      <td>NaN</td>\n",
       "      <td>NaN</td>\n",
       "      <td>3.349603</td>\n",
       "      <td>2.063373</td>\n",
       "      <td>NaN</td>\n",
       "      <td>2.443507</td>\n",
       "      <td>5.147910</td>\n",
       "      <td>NaN</td>\n",
       "      <td>NaN</td>\n",
       "    </tr>\n",
       "    <tr>\n",
       "      <th>6</th>\n",
       "      <td>2000-01-07</td>\n",
       "      <td>NaN</td>\n",
       "      <td>4.654961</td>\n",
       "      <td>2.726219</td>\n",
       "      <td>0.017776</td>\n",
       "      <td>3.117912</td>\n",
       "      <td>NaN</td>\n",
       "      <td>1.451209</td>\n",
       "      <td>5.264914</td>\n",
       "      <td>6.739878</td>\n",
       "      <td>...</td>\n",
       "      <td>NaN</td>\n",
       "      <td>NaN</td>\n",
       "      <td>NaN</td>\n",
       "      <td>3.349603</td>\n",
       "      <td>2.068435</td>\n",
       "      <td>NaN</td>\n",
       "      <td>2.424422</td>\n",
       "      <td>5.229499</td>\n",
       "      <td>NaN</td>\n",
       "      <td>NaN</td>\n",
       "    </tr>\n",
       "  </tbody>\n",
       "</table>\n",
       "<p>5 rows × 101 columns</p>\n",
       "</div>"
      ],
      "text/plain": [
       "        Time  A2M       AGL       ALL       ALQ       ALU  ALX       AMC  \\\n",
       "2 2000-01-03  NaN       NaN       NaN       NaN       NaN  NaN       NaN   \n",
       "3 2000-01-04  NaN  4.665331  2.925006  0.018139  3.357754  NaN  1.461500   \n",
       "4 2000-01-05  NaN  4.606756  2.768106  0.017776  3.147893  NaN  1.440916   \n",
       "5 2000-01-06  NaN  4.535735  2.690722  0.017414  3.183872  NaN  1.428563   \n",
       "6 2000-01-07  NaN  4.654961  2.726219  0.017776  3.117912  NaN  1.451209   \n",
       "\n",
       "        AMP       ANN  ...  TWE  VCX  VEA       WBC       WES  WOR       WOW  \\\n",
       "2  5.601532       NaN  ...  NaN  NaN  NaN       NaN       NaN  NaN       NaN   \n",
       "3  5.422170  7.067056  ...  NaN  NaN  NaN  3.419256  2.086992  NaN  2.457825   \n",
       "4  5.192115  6.968902  ...  NaN  NaN  NaN  3.356248  2.061686  NaN  2.448280   \n",
       "5  5.045533  6.772593  ...  NaN  NaN  NaN  3.349603  2.063373  NaN  2.443507   \n",
       "6  5.264914  6.739878  ...  NaN  NaN  NaN  3.349603  2.068435  NaN  2.424422   \n",
       "\n",
       "        WPL  WTC  XRO  \n",
       "2       NaN  NaN  NaN  \n",
       "3  5.309288  NaN  NaN  \n",
       "4  5.267546  NaN  NaN  \n",
       "5  5.147910  NaN  NaN  \n",
       "6  5.229499  NaN  NaN  \n",
       "\n",
       "[5 rows x 101 columns]"
      ]
     },
     "execution_count": 17,
     "metadata": {},
     "output_type": "execute_result"
    }
   ],
   "source": [
    "data.head()"
   ]
  },
  {
   "cell_type": "code",
   "execution_count": 18,
   "metadata": {},
   "outputs": [],
   "source": [
    "r = data[(data['Time'].dt.weekday == 4) & (data['Time'] >= '2019-01-01')]"
   ]
  },
  {
   "cell_type": "code",
   "execution_count": 19,
   "metadata": {},
   "outputs": [
    {
     "data": {
      "text/html": [
       "<div>\n",
       "<style scoped>\n",
       "    .dataframe tbody tr th:only-of-type {\n",
       "        vertical-align: middle;\n",
       "    }\n",
       "\n",
       "    .dataframe tbody tr th {\n",
       "        vertical-align: top;\n",
       "    }\n",
       "\n",
       "    .dataframe thead th {\n",
       "        text-align: right;\n",
       "    }\n",
       "</style>\n",
       "<table border=\"1\" class=\"dataframe\">\n",
       "  <thead>\n",
       "    <tr style=\"text-align: right;\">\n",
       "      <th></th>\n",
       "      <th>Time</th>\n",
       "      <th>A2M</th>\n",
       "      <th>AGL</th>\n",
       "      <th>ALL</th>\n",
       "      <th>ALQ</th>\n",
       "      <th>ALU</th>\n",
       "      <th>ALX</th>\n",
       "      <th>AMC</th>\n",
       "      <th>AMP</th>\n",
       "      <th>ANN</th>\n",
       "      <th>...</th>\n",
       "      <th>TWE</th>\n",
       "      <th>VCX</th>\n",
       "      <th>VEA</th>\n",
       "      <th>WBC</th>\n",
       "      <th>WES</th>\n",
       "      <th>WOR</th>\n",
       "      <th>WOW</th>\n",
       "      <th>WPL</th>\n",
       "      <th>WTC</th>\n",
       "      <th>XRO</th>\n",
       "    </tr>\n",
       "  </thead>\n",
       "  <tbody>\n",
       "    <tr>\n",
       "      <th>6943</th>\n",
       "      <td>2019-01-04</td>\n",
       "      <td>10.10</td>\n",
       "      <td>19.018661</td>\n",
       "      <td>21.129770</td>\n",
       "      <td>6.330474</td>\n",
       "      <td>20.455803</td>\n",
       "      <td>5.747818</td>\n",
       "      <td>12.334577</td>\n",
       "      <td>2.378983</td>\n",
       "      <td>20.739098</td>\n",
       "      <td>...</td>\n",
       "      <td>13.463317</td>\n",
       "      <td>2.389107</td>\n",
       "      <td>1.708126</td>\n",
       "      <td>23.459414</td>\n",
       "      <td>30.052795</td>\n",
       "      <td>11.137593</td>\n",
       "      <td>28.059692</td>\n",
       "      <td>29.547916</td>\n",
       "      <td>16.431517</td>\n",
       "      <td>40.900002</td>\n",
       "    </tr>\n",
       "    <tr>\n",
       "      <th>6950</th>\n",
       "      <td>2019-01-11</td>\n",
       "      <td>10.71</td>\n",
       "      <td>19.488373</td>\n",
       "      <td>22.849636</td>\n",
       "      <td>6.806231</td>\n",
       "      <td>22.797544</td>\n",
       "      <td>5.984154</td>\n",
       "      <td>12.493673</td>\n",
       "      <td>2.496949</td>\n",
       "      <td>21.491144</td>\n",
       "      <td>...</td>\n",
       "      <td>14.260361</td>\n",
       "      <td>2.492572</td>\n",
       "      <td>1.736595</td>\n",
       "      <td>24.003019</td>\n",
       "      <td>29.931007</td>\n",
       "      <td>12.878445</td>\n",
       "      <td>28.385300</td>\n",
       "      <td>30.797985</td>\n",
       "      <td>19.085300</td>\n",
       "      <td>42.660000</td>\n",
       "    </tr>\n",
       "    <tr>\n",
       "      <th>6957</th>\n",
       "      <td>2019-01-18</td>\n",
       "      <td>11.75</td>\n",
       "      <td>19.248911</td>\n",
       "      <td>23.154297</td>\n",
       "      <td>6.883906</td>\n",
       "      <td>23.663399</td>\n",
       "      <td>5.917983</td>\n",
       "      <td>12.531107</td>\n",
       "      <td>2.614915</td>\n",
       "      <td>22.301039</td>\n",
       "      <td>...</td>\n",
       "      <td>14.730905</td>\n",
       "      <td>2.464354</td>\n",
       "      <td>1.736595</td>\n",
       "      <td>24.509134</td>\n",
       "      <td>30.446253</td>\n",
       "      <td>13.070804</td>\n",
       "      <td>28.691753</td>\n",
       "      <td>31.381350</td>\n",
       "      <td>19.314766</td>\n",
       "      <td>42.130001</td>\n",
       "    </tr>\n",
       "    <tr>\n",
       "      <th>6964</th>\n",
       "      <td>2019-01-25</td>\n",
       "      <td>11.66</td>\n",
       "      <td>19.948872</td>\n",
       "      <td>24.176390</td>\n",
       "      <td>7.029545</td>\n",
       "      <td>24.548929</td>\n",
       "      <td>6.154319</td>\n",
       "      <td>12.802505</td>\n",
       "      <td>2.300339</td>\n",
       "      <td>22.561363</td>\n",
       "      <td>...</td>\n",
       "      <td>14.884550</td>\n",
       "      <td>2.464354</td>\n",
       "      <td>1.708126</td>\n",
       "      <td>24.256075</td>\n",
       "      <td>30.774136</td>\n",
       "      <td>13.532466</td>\n",
       "      <td>29.228050</td>\n",
       "      <td>31.742481</td>\n",
       "      <td>20.252569</td>\n",
       "      <td>42.299999</td>\n",
       "    </tr>\n",
       "    <tr>\n",
       "      <th>6971</th>\n",
       "      <td>2019-02-01</td>\n",
       "      <td>12.21</td>\n",
       "      <td>19.856771</td>\n",
       "      <td>23.989660</td>\n",
       "      <td>7.204313</td>\n",
       "      <td>24.676842</td>\n",
       "      <td>6.343391</td>\n",
       "      <td>12.905449</td>\n",
       "      <td>2.202034</td>\n",
       "      <td>22.503513</td>\n",
       "      <td>...</td>\n",
       "      <td>14.922962</td>\n",
       "      <td>2.436136</td>\n",
       "      <td>1.736595</td>\n",
       "      <td>23.037647</td>\n",
       "      <td>30.174578</td>\n",
       "      <td>13.570937</td>\n",
       "      <td>28.193768</td>\n",
       "      <td>31.372093</td>\n",
       "      <td>20.621704</td>\n",
       "      <td>43.299999</td>\n",
       "    </tr>\n",
       "  </tbody>\n",
       "</table>\n",
       "<p>5 rows × 101 columns</p>\n",
       "</div>"
      ],
      "text/plain": [
       "           Time    A2M        AGL        ALL       ALQ        ALU       ALX  \\\n",
       "6943 2019-01-04  10.10  19.018661  21.129770  6.330474  20.455803  5.747818   \n",
       "6950 2019-01-11  10.71  19.488373  22.849636  6.806231  22.797544  5.984154   \n",
       "6957 2019-01-18  11.75  19.248911  23.154297  6.883906  23.663399  5.917983   \n",
       "6964 2019-01-25  11.66  19.948872  24.176390  7.029545  24.548929  6.154319   \n",
       "6971 2019-02-01  12.21  19.856771  23.989660  7.204313  24.676842  6.343391   \n",
       "\n",
       "            AMC       AMP        ANN  ...        TWE       VCX       VEA  \\\n",
       "6943  12.334577  2.378983  20.739098  ...  13.463317  2.389107  1.708126   \n",
       "6950  12.493673  2.496949  21.491144  ...  14.260361  2.492572  1.736595   \n",
       "6957  12.531107  2.614915  22.301039  ...  14.730905  2.464354  1.736595   \n",
       "6964  12.802505  2.300339  22.561363  ...  14.884550  2.464354  1.708126   \n",
       "6971  12.905449  2.202034  22.503513  ...  14.922962  2.436136  1.736595   \n",
       "\n",
       "            WBC        WES        WOR        WOW        WPL        WTC  \\\n",
       "6943  23.459414  30.052795  11.137593  28.059692  29.547916  16.431517   \n",
       "6950  24.003019  29.931007  12.878445  28.385300  30.797985  19.085300   \n",
       "6957  24.509134  30.446253  13.070804  28.691753  31.381350  19.314766   \n",
       "6964  24.256075  30.774136  13.532466  29.228050  31.742481  20.252569   \n",
       "6971  23.037647  30.174578  13.570937  28.193768  31.372093  20.621704   \n",
       "\n",
       "            XRO  \n",
       "6943  40.900002  \n",
       "6950  42.660000  \n",
       "6957  42.130001  \n",
       "6964  42.299999  \n",
       "6971  43.299999  \n",
       "\n",
       "[5 rows x 101 columns]"
      ]
     },
     "execution_count": 19,
     "metadata": {},
     "output_type": "execute_result"
    }
   ],
   "source": [
    "r.head()"
   ]
  },
  {
   "cell_type": "code",
   "execution_count": 20,
   "metadata": {},
   "outputs": [],
   "source": [
    "r = r.drop(['Time'], axis=1)"
   ]
  },
  {
   "cell_type": "code",
   "execution_count": 21,
   "metadata": {},
   "outputs": [
    {
     "data": {
      "text/html": [
       "<div>\n",
       "<style scoped>\n",
       "    .dataframe tbody tr th:only-of-type {\n",
       "        vertical-align: middle;\n",
       "    }\n",
       "\n",
       "    .dataframe tbody tr th {\n",
       "        vertical-align: top;\n",
       "    }\n",
       "\n",
       "    .dataframe thead th {\n",
       "        text-align: right;\n",
       "    }\n",
       "</style>\n",
       "<table border=\"1\" class=\"dataframe\">\n",
       "  <thead>\n",
       "    <tr style=\"text-align: right;\">\n",
       "      <th></th>\n",
       "      <th>A2M</th>\n",
       "      <th>AGL</th>\n",
       "      <th>ALL</th>\n",
       "      <th>ALQ</th>\n",
       "      <th>ALU</th>\n",
       "      <th>ALX</th>\n",
       "      <th>AMC</th>\n",
       "      <th>AMP</th>\n",
       "      <th>ANN</th>\n",
       "      <th>ANZ</th>\n",
       "      <th>...</th>\n",
       "      <th>TWE</th>\n",
       "      <th>VCX</th>\n",
       "      <th>VEA</th>\n",
       "      <th>WBC</th>\n",
       "      <th>WES</th>\n",
       "      <th>WOR</th>\n",
       "      <th>WOW</th>\n",
       "      <th>WPL</th>\n",
       "      <th>WTC</th>\n",
       "      <th>XRO</th>\n",
       "    </tr>\n",
       "  </thead>\n",
       "  <tbody>\n",
       "    <tr>\n",
       "      <th>6943</th>\n",
       "      <td>10.100000</td>\n",
       "      <td>19.018661</td>\n",
       "      <td>21.129770</td>\n",
       "      <td>6.330474</td>\n",
       "      <td>20.455803</td>\n",
       "      <td>5.747818</td>\n",
       "      <td>12.334577</td>\n",
       "      <td>2.378983</td>\n",
       "      <td>20.739098</td>\n",
       "      <td>22.826998</td>\n",
       "      <td>...</td>\n",
       "      <td>13.463317</td>\n",
       "      <td>2.389107</td>\n",
       "      <td>1.708126</td>\n",
       "      <td>23.459414</td>\n",
       "      <td>30.052795</td>\n",
       "      <td>11.137593</td>\n",
       "      <td>28.059692</td>\n",
       "      <td>29.547916</td>\n",
       "      <td>16.431517</td>\n",
       "      <td>40.900002</td>\n",
       "    </tr>\n",
       "    <tr>\n",
       "      <th>6950</th>\n",
       "      <td>10.710000</td>\n",
       "      <td>19.488373</td>\n",
       "      <td>22.849636</td>\n",
       "      <td>6.806231</td>\n",
       "      <td>22.797544</td>\n",
       "      <td>5.984154</td>\n",
       "      <td>12.493673</td>\n",
       "      <td>2.496949</td>\n",
       "      <td>21.491144</td>\n",
       "      <td>23.758904</td>\n",
       "      <td>...</td>\n",
       "      <td>14.260361</td>\n",
       "      <td>2.492572</td>\n",
       "      <td>1.736595</td>\n",
       "      <td>24.003019</td>\n",
       "      <td>29.931007</td>\n",
       "      <td>12.878445</td>\n",
       "      <td>28.385300</td>\n",
       "      <td>30.797985</td>\n",
       "      <td>19.085300</td>\n",
       "      <td>42.660000</td>\n",
       "    </tr>\n",
       "    <tr>\n",
       "      <th>6957</th>\n",
       "      <td>11.750000</td>\n",
       "      <td>19.248911</td>\n",
       "      <td>23.154297</td>\n",
       "      <td>6.883906</td>\n",
       "      <td>23.663399</td>\n",
       "      <td>5.917983</td>\n",
       "      <td>12.531107</td>\n",
       "      <td>2.614915</td>\n",
       "      <td>22.301039</td>\n",
       "      <td>24.540197</td>\n",
       "      <td>...</td>\n",
       "      <td>14.730905</td>\n",
       "      <td>2.464354</td>\n",
       "      <td>1.736595</td>\n",
       "      <td>24.509134</td>\n",
       "      <td>30.446253</td>\n",
       "      <td>13.070804</td>\n",
       "      <td>28.691753</td>\n",
       "      <td>31.381350</td>\n",
       "      <td>19.314766</td>\n",
       "      <td>42.130001</td>\n",
       "    </tr>\n",
       "    <tr>\n",
       "      <th>6964</th>\n",
       "      <td>11.660000</td>\n",
       "      <td>19.948872</td>\n",
       "      <td>24.176390</td>\n",
       "      <td>7.029545</td>\n",
       "      <td>24.548929</td>\n",
       "      <td>6.154319</td>\n",
       "      <td>12.802505</td>\n",
       "      <td>2.300339</td>\n",
       "      <td>22.561363</td>\n",
       "      <td>24.653158</td>\n",
       "      <td>...</td>\n",
       "      <td>14.884550</td>\n",
       "      <td>2.464354</td>\n",
       "      <td>1.708126</td>\n",
       "      <td>24.256075</td>\n",
       "      <td>30.774136</td>\n",
       "      <td>13.532466</td>\n",
       "      <td>29.228050</td>\n",
       "      <td>31.742481</td>\n",
       "      <td>20.252569</td>\n",
       "      <td>42.299999</td>\n",
       "    </tr>\n",
       "    <tr>\n",
       "      <th>6971</th>\n",
       "      <td>12.210000</td>\n",
       "      <td>19.856771</td>\n",
       "      <td>23.989660</td>\n",
       "      <td>7.204313</td>\n",
       "      <td>24.676842</td>\n",
       "      <td>6.343391</td>\n",
       "      <td>12.905449</td>\n",
       "      <td>2.202034</td>\n",
       "      <td>22.503513</td>\n",
       "      <td>23.467096</td>\n",
       "      <td>...</td>\n",
       "      <td>14.922962</td>\n",
       "      <td>2.436136</td>\n",
       "      <td>1.736595</td>\n",
       "      <td>23.037647</td>\n",
       "      <td>30.174578</td>\n",
       "      <td>13.570937</td>\n",
       "      <td>28.193768</td>\n",
       "      <td>31.372093</td>\n",
       "      <td>20.621704</td>\n",
       "      <td>43.299999</td>\n",
       "    </tr>\n",
       "    <tr>\n",
       "      <th>...</th>\n",
       "      <td>...</td>\n",
       "      <td>...</td>\n",
       "      <td>...</td>\n",
       "      <td>...</td>\n",
       "      <td>...</td>\n",
       "      <td>...</td>\n",
       "      <td>...</td>\n",
       "      <td>...</td>\n",
       "      <td>...</td>\n",
       "      <td>...</td>\n",
       "      <td>...</td>\n",
       "      <td>...</td>\n",
       "      <td>...</td>\n",
       "      <td>...</td>\n",
       "      <td>...</td>\n",
       "      <td>...</td>\n",
       "      <td>...</td>\n",
       "      <td>...</td>\n",
       "      <td>...</td>\n",
       "      <td>...</td>\n",
       "      <td>...</td>\n",
       "    </tr>\n",
       "    <tr>\n",
       "      <th>7363</th>\n",
       "      <td>15.420000</td>\n",
       "      <td>19.139999</td>\n",
       "      <td>33.110001</td>\n",
       "      <td>8.360000</td>\n",
       "      <td>30.799999</td>\n",
       "      <td>8.020000</td>\n",
       "      <td>14.248165</td>\n",
       "      <td>1.675000</td>\n",
       "      <td>29.600000</td>\n",
       "      <td>24.830000</td>\n",
       "      <td>...</td>\n",
       "      <td>10.831618</td>\n",
       "      <td>2.160000</td>\n",
       "      <td>1.721867</td>\n",
       "      <td>23.639999</td>\n",
       "      <td>40.650002</td>\n",
       "      <td>12.520000</td>\n",
       "      <td>38.330315</td>\n",
       "      <td>27.920000</td>\n",
       "      <td>15.083417</td>\n",
       "      <td>73.650002</td>\n",
       "    </tr>\n",
       "    <tr>\n",
       "      <th>7370</th>\n",
       "      <td>16.389999</td>\n",
       "      <td>18.650000</td>\n",
       "      <td>31.920000</td>\n",
       "      <td>7.770000</td>\n",
       "      <td>29.690001</td>\n",
       "      <td>7.650000</td>\n",
       "      <td>14.070000</td>\n",
       "      <td>1.575000</td>\n",
       "      <td>27.680000</td>\n",
       "      <td>22.139999</td>\n",
       "      <td>...</td>\n",
       "      <td>10.000000</td>\n",
       "      <td>2.160000</td>\n",
       "      <td>1.648492</td>\n",
       "      <td>21.350000</td>\n",
       "      <td>39.200001</td>\n",
       "      <td>11.770000</td>\n",
       "      <td>38.000000</td>\n",
       "      <td>26.379999</td>\n",
       "      <td>15.030000</td>\n",
       "      <td>75.169998</td>\n",
       "    </tr>\n",
       "    <tr>\n",
       "      <th>7377</th>\n",
       "      <td>15.710000</td>\n",
       "      <td>17.170000</td>\n",
       "      <td>27.910000</td>\n",
       "      <td>6.290000</td>\n",
       "      <td>27.000000</td>\n",
       "      <td>6.100000</td>\n",
       "      <td>11.100000</td>\n",
       "      <td>1.445000</td>\n",
       "      <td>26.879999</td>\n",
       "      <td>18.799999</td>\n",
       "      <td>...</td>\n",
       "      <td>9.530000</td>\n",
       "      <td>1.750000</td>\n",
       "      <td>1.526200</td>\n",
       "      <td>18.120001</td>\n",
       "      <td>37.849998</td>\n",
       "      <td>9.610000</td>\n",
       "      <td>37.049999</td>\n",
       "      <td>20.969999</td>\n",
       "      <td>13.610000</td>\n",
       "      <td>80.389999</td>\n",
       "    </tr>\n",
       "    <tr>\n",
       "      <th>7384</th>\n",
       "      <td>16.170000</td>\n",
       "      <td>16.420000</td>\n",
       "      <td>17.540001</td>\n",
       "      <td>5.350000</td>\n",
       "      <td>26.219999</td>\n",
       "      <td>5.260000</td>\n",
       "      <td>11.900000</td>\n",
       "      <td>1.310000</td>\n",
       "      <td>21.910000</td>\n",
       "      <td>16.020000</td>\n",
       "      <td>...</td>\n",
       "      <td>9.660000</td>\n",
       "      <td>1.135000</td>\n",
       "      <td>1.252267</td>\n",
       "      <td>15.770000</td>\n",
       "      <td>33.279999</td>\n",
       "      <td>5.760000</td>\n",
       "      <td>37.470001</td>\n",
       "      <td>16.000000</td>\n",
       "      <td>11.800000</td>\n",
       "      <td>61.750000</td>\n",
       "    </tr>\n",
       "    <tr>\n",
       "      <th>7391</th>\n",
       "      <td>15.870000</td>\n",
       "      <td>15.930000</td>\n",
       "      <td>20.170000</td>\n",
       "      <td>5.390000</td>\n",
       "      <td>26.000000</td>\n",
       "      <td>5.320000</td>\n",
       "      <td>12.540000</td>\n",
       "      <td>1.270000</td>\n",
       "      <td>23.209999</td>\n",
       "      <td>15.470000</td>\n",
       "      <td>...</td>\n",
       "      <td>9.460000</td>\n",
       "      <td>0.965000</td>\n",
       "      <td>1.225000</td>\n",
       "      <td>14.890000</td>\n",
       "      <td>32.250000</td>\n",
       "      <td>5.790000</td>\n",
       "      <td>34.799999</td>\n",
       "      <td>16.840000</td>\n",
       "      <td>14.500000</td>\n",
       "      <td>65.199997</td>\n",
       "    </tr>\n",
       "  </tbody>\n",
       "</table>\n",
       "<p>65 rows × 100 columns</p>\n",
       "</div>"
      ],
      "text/plain": [
       "            A2M        AGL        ALL       ALQ        ALU       ALX  \\\n",
       "6943  10.100000  19.018661  21.129770  6.330474  20.455803  5.747818   \n",
       "6950  10.710000  19.488373  22.849636  6.806231  22.797544  5.984154   \n",
       "6957  11.750000  19.248911  23.154297  6.883906  23.663399  5.917983   \n",
       "6964  11.660000  19.948872  24.176390  7.029545  24.548929  6.154319   \n",
       "6971  12.210000  19.856771  23.989660  7.204313  24.676842  6.343391   \n",
       "...         ...        ...        ...       ...        ...       ...   \n",
       "7363  15.420000  19.139999  33.110001  8.360000  30.799999  8.020000   \n",
       "7370  16.389999  18.650000  31.920000  7.770000  29.690001  7.650000   \n",
       "7377  15.710000  17.170000  27.910000  6.290000  27.000000  6.100000   \n",
       "7384  16.170000  16.420000  17.540001  5.350000  26.219999  5.260000   \n",
       "7391  15.870000  15.930000  20.170000  5.390000  26.000000  5.320000   \n",
       "\n",
       "            AMC       AMP        ANN        ANZ  ...        TWE       VCX  \\\n",
       "6943  12.334577  2.378983  20.739098  22.826998  ...  13.463317  2.389107   \n",
       "6950  12.493673  2.496949  21.491144  23.758904  ...  14.260361  2.492572   \n",
       "6957  12.531107  2.614915  22.301039  24.540197  ...  14.730905  2.464354   \n",
       "6964  12.802505  2.300339  22.561363  24.653158  ...  14.884550  2.464354   \n",
       "6971  12.905449  2.202034  22.503513  23.467096  ...  14.922962  2.436136   \n",
       "...         ...       ...        ...        ...  ...        ...       ...   \n",
       "7363  14.248165  1.675000  29.600000  24.830000  ...  10.831618  2.160000   \n",
       "7370  14.070000  1.575000  27.680000  22.139999  ...  10.000000  2.160000   \n",
       "7377  11.100000  1.445000  26.879999  18.799999  ...   9.530000  1.750000   \n",
       "7384  11.900000  1.310000  21.910000  16.020000  ...   9.660000  1.135000   \n",
       "7391  12.540000  1.270000  23.209999  15.470000  ...   9.460000  0.965000   \n",
       "\n",
       "           VEA        WBC        WES        WOR        WOW        WPL  \\\n",
       "6943  1.708126  23.459414  30.052795  11.137593  28.059692  29.547916   \n",
       "6950  1.736595  24.003019  29.931007  12.878445  28.385300  30.797985   \n",
       "6957  1.736595  24.509134  30.446253  13.070804  28.691753  31.381350   \n",
       "6964  1.708126  24.256075  30.774136  13.532466  29.228050  31.742481   \n",
       "6971  1.736595  23.037647  30.174578  13.570937  28.193768  31.372093   \n",
       "...        ...        ...        ...        ...        ...        ...   \n",
       "7363  1.721867  23.639999  40.650002  12.520000  38.330315  27.920000   \n",
       "7370  1.648492  21.350000  39.200001  11.770000  38.000000  26.379999   \n",
       "7377  1.526200  18.120001  37.849998   9.610000  37.049999  20.969999   \n",
       "7384  1.252267  15.770000  33.279999   5.760000  37.470001  16.000000   \n",
       "7391  1.225000  14.890000  32.250000   5.790000  34.799999  16.840000   \n",
       "\n",
       "            WTC        XRO  \n",
       "6943  16.431517  40.900002  \n",
       "6950  19.085300  42.660000  \n",
       "6957  19.314766  42.130001  \n",
       "6964  20.252569  42.299999  \n",
       "6971  20.621704  43.299999  \n",
       "...         ...        ...  \n",
       "7363  15.083417  73.650002  \n",
       "7370  15.030000  75.169998  \n",
       "7377  13.610000  80.389999  \n",
       "7384  11.800000  61.750000  \n",
       "7391  14.500000  65.199997  \n",
       "\n",
       "[65 rows x 100 columns]"
      ]
     },
     "execution_count": 21,
     "metadata": {},
     "output_type": "execute_result"
    }
   ],
   "source": [
    "r"
   ]
  },
  {
   "cell_type": "code",
   "execution_count": 22,
   "metadata": {},
   "outputs": [],
   "source": [
    "r = r.pct_change(fill_method='ffill')"
   ]
  },
  {
   "cell_type": "code",
   "execution_count": 23,
   "metadata": {},
   "outputs": [
    {
     "data": {
      "text/html": [
       "<div>\n",
       "<style scoped>\n",
       "    .dataframe tbody tr th:only-of-type {\n",
       "        vertical-align: middle;\n",
       "    }\n",
       "\n",
       "    .dataframe tbody tr th {\n",
       "        vertical-align: top;\n",
       "    }\n",
       "\n",
       "    .dataframe thead th {\n",
       "        text-align: right;\n",
       "    }\n",
       "</style>\n",
       "<table border=\"1\" class=\"dataframe\">\n",
       "  <thead>\n",
       "    <tr style=\"text-align: right;\">\n",
       "      <th></th>\n",
       "      <th>A2M</th>\n",
       "      <th>AGL</th>\n",
       "      <th>ALL</th>\n",
       "      <th>ALQ</th>\n",
       "      <th>ALU</th>\n",
       "      <th>ALX</th>\n",
       "      <th>AMC</th>\n",
       "      <th>AMP</th>\n",
       "      <th>ANN</th>\n",
       "      <th>ANZ</th>\n",
       "      <th>...</th>\n",
       "      <th>TWE</th>\n",
       "      <th>VCX</th>\n",
       "      <th>VEA</th>\n",
       "      <th>WBC</th>\n",
       "      <th>WES</th>\n",
       "      <th>WOR</th>\n",
       "      <th>WOW</th>\n",
       "      <th>WPL</th>\n",
       "      <th>WTC</th>\n",
       "      <th>XRO</th>\n",
       "    </tr>\n",
       "  </thead>\n",
       "  <tbody>\n",
       "    <tr>\n",
       "      <th>6943</th>\n",
       "      <td>NaN</td>\n",
       "      <td>NaN</td>\n",
       "      <td>NaN</td>\n",
       "      <td>NaN</td>\n",
       "      <td>NaN</td>\n",
       "      <td>NaN</td>\n",
       "      <td>NaN</td>\n",
       "      <td>NaN</td>\n",
       "      <td>NaN</td>\n",
       "      <td>NaN</td>\n",
       "      <td>...</td>\n",
       "      <td>NaN</td>\n",
       "      <td>NaN</td>\n",
       "      <td>NaN</td>\n",
       "      <td>NaN</td>\n",
       "      <td>NaN</td>\n",
       "      <td>NaN</td>\n",
       "      <td>NaN</td>\n",
       "      <td>NaN</td>\n",
       "      <td>NaN</td>\n",
       "      <td>NaN</td>\n",
       "    </tr>\n",
       "    <tr>\n",
       "      <th>6950</th>\n",
       "      <td>0.060396</td>\n",
       "      <td>0.024697</td>\n",
       "      <td>0.081395</td>\n",
       "      <td>0.075153</td>\n",
       "      <td>0.114478</td>\n",
       "      <td>0.041118</td>\n",
       "      <td>0.012898</td>\n",
       "      <td>0.049587</td>\n",
       "      <td>0.036262</td>\n",
       "      <td>0.040825</td>\n",
       "      <td>...</td>\n",
       "      <td>0.059201</td>\n",
       "      <td>0.043307</td>\n",
       "      <td>0.016667</td>\n",
       "      <td>0.023172</td>\n",
       "      <td>-0.004052</td>\n",
       "      <td>0.156304</td>\n",
       "      <td>0.011604</td>\n",
       "      <td>0.042307</td>\n",
       "      <td>0.161506</td>\n",
       "      <td>0.043032</td>\n",
       "    </tr>\n",
       "    <tr>\n",
       "      <th>6957</th>\n",
       "      <td>0.097106</td>\n",
       "      <td>-0.012287</td>\n",
       "      <td>0.013333</td>\n",
       "      <td>0.011412</td>\n",
       "      <td>0.037980</td>\n",
       "      <td>-0.011058</td>\n",
       "      <td>0.002996</td>\n",
       "      <td>0.047244</td>\n",
       "      <td>0.037685</td>\n",
       "      <td>0.032884</td>\n",
       "      <td>...</td>\n",
       "      <td>0.032997</td>\n",
       "      <td>-0.011321</td>\n",
       "      <td>0.000000</td>\n",
       "      <td>0.021085</td>\n",
       "      <td>0.017214</td>\n",
       "      <td>0.014937</td>\n",
       "      <td>0.010796</td>\n",
       "      <td>0.018942</td>\n",
       "      <td>0.012023</td>\n",
       "      <td>-0.012424</td>\n",
       "    </tr>\n",
       "    <tr>\n",
       "      <th>6964</th>\n",
       "      <td>-0.007660</td>\n",
       "      <td>0.036364</td>\n",
       "      <td>0.044143</td>\n",
       "      <td>0.021156</td>\n",
       "      <td>0.037422</td>\n",
       "      <td>0.039935</td>\n",
       "      <td>0.021658</td>\n",
       "      <td>-0.120301</td>\n",
       "      <td>0.011673</td>\n",
       "      <td>0.004603</td>\n",
       "      <td>...</td>\n",
       "      <td>0.010430</td>\n",
       "      <td>0.000000</td>\n",
       "      <td>-0.016394</td>\n",
       "      <td>-0.010325</td>\n",
       "      <td>0.010769</td>\n",
       "      <td>0.035320</td>\n",
       "      <td>0.018692</td>\n",
       "      <td>0.011508</td>\n",
       "      <td>0.048554</td>\n",
       "      <td>0.004035</td>\n",
       "    </tr>\n",
       "    <tr>\n",
       "      <th>6971</th>\n",
       "      <td>0.047170</td>\n",
       "      <td>-0.004617</td>\n",
       "      <td>-0.007724</td>\n",
       "      <td>0.024862</td>\n",
       "      <td>0.005211</td>\n",
       "      <td>0.030722</td>\n",
       "      <td>0.008041</td>\n",
       "      <td>-0.042735</td>\n",
       "      <td>-0.002564</td>\n",
       "      <td>-0.048110</td>\n",
       "      <td>...</td>\n",
       "      <td>0.002581</td>\n",
       "      <td>-0.011450</td>\n",
       "      <td>0.016667</td>\n",
       "      <td>-0.050232</td>\n",
       "      <td>-0.019483</td>\n",
       "      <td>0.002843</td>\n",
       "      <td>-0.035387</td>\n",
       "      <td>-0.011669</td>\n",
       "      <td>0.018227</td>\n",
       "      <td>0.023641</td>\n",
       "    </tr>\n",
       "  </tbody>\n",
       "</table>\n",
       "<p>5 rows × 100 columns</p>\n",
       "</div>"
      ],
      "text/plain": [
       "           A2M       AGL       ALL       ALQ       ALU       ALX       AMC  \\\n",
       "6943       NaN       NaN       NaN       NaN       NaN       NaN       NaN   \n",
       "6950  0.060396  0.024697  0.081395  0.075153  0.114478  0.041118  0.012898   \n",
       "6957  0.097106 -0.012287  0.013333  0.011412  0.037980 -0.011058  0.002996   \n",
       "6964 -0.007660  0.036364  0.044143  0.021156  0.037422  0.039935  0.021658   \n",
       "6971  0.047170 -0.004617 -0.007724  0.024862  0.005211  0.030722  0.008041   \n",
       "\n",
       "           AMP       ANN       ANZ  ...       TWE       VCX       VEA  \\\n",
       "6943       NaN       NaN       NaN  ...       NaN       NaN       NaN   \n",
       "6950  0.049587  0.036262  0.040825  ...  0.059201  0.043307  0.016667   \n",
       "6957  0.047244  0.037685  0.032884  ...  0.032997 -0.011321  0.000000   \n",
       "6964 -0.120301  0.011673  0.004603  ...  0.010430  0.000000 -0.016394   \n",
       "6971 -0.042735 -0.002564 -0.048110  ...  0.002581 -0.011450  0.016667   \n",
       "\n",
       "           WBC       WES       WOR       WOW       WPL       WTC       XRO  \n",
       "6943       NaN       NaN       NaN       NaN       NaN       NaN       NaN  \n",
       "6950  0.023172 -0.004052  0.156304  0.011604  0.042307  0.161506  0.043032  \n",
       "6957  0.021085  0.017214  0.014937  0.010796  0.018942  0.012023 -0.012424  \n",
       "6964 -0.010325  0.010769  0.035320  0.018692  0.011508  0.048554  0.004035  \n",
       "6971 -0.050232 -0.019483  0.002843 -0.035387 -0.011669  0.018227  0.023641  \n",
       "\n",
       "[5 rows x 100 columns]"
      ]
     },
     "execution_count": 23,
     "metadata": {},
     "output_type": "execute_result"
    }
   ],
   "source": [
    "r.head()"
   ]
  },
  {
   "cell_type": "code",
   "execution_count": 24,
   "metadata": {},
   "outputs": [],
   "source": [
    "p = data.drop(['Time'],axis=1).tail(1).to_numpy()"
   ]
  },
  {
   "cell_type": "code",
   "execution_count": 25,
   "metadata": {},
   "outputs": [
    {
     "data": {
      "text/plain": [
       "array([[ 16.6     ,  17.190001,  21.35    ,   5.56    ,  28.59    ,\n",
       "          5.51    ,  13.04    ,   1.335   ,  27.190001,  16.959999,\n",
       "         10.26    ,  18.799999,   1.71    ,  77.089996,   1.46    ,\n",
       "          4.23    ,   6.27    ,  28.98    ,   2.05    ,   5.      ,\n",
       "          1.15    ,   8.63    ,  10.56    ,  11.75    ,  61.82    ,\n",
       "          8.84    ,   4.      ,   6.86    ,  23.25    , 187.449997,\n",
       "         15.16    ,   9.71    , 296.679993,  22.32    ,   7.6     ,\n",
       "          1.695   ,  51.099998,   2.98    ,   9.09    ,   3.82    ,\n",
       "          3.24    ,   9.91    ,  10.      ,  28.84    ,  12.1     ,\n",
       "          2.52    ,   3.63    ,   2.830808,   6.2     ,  11.56    ,\n",
       "          6.98    ,   2.02    ,  28.      ,  18.52    ,  10.3     ,\n",
       "         43.52    ,   2.09    ,   2.66    ,  85.75    ,  16.68    ,\n",
       "         23.049999,  10.53    ,   4.38    ,  15.35    ,   2.38    ,\n",
       "          3.23    ,   8.6     ,   2.15    ,  76.989998,  57.279999,\n",
       "         84.57    ,  24.690001,   1.765   ,   3.67    ,   1.565   ,\n",
       "         14.83    ,   2.53    ,   2.15    ,  24.33    ,   1.95    ,\n",
       "         16.969999,   4.      ,   3.42    ,   9.13    ,  11.24    ,\n",
       "          5.59    ,   2.53    ,  12.04    ,   3.07    ,   6.861685,\n",
       "         10.03    ,   1.035   ,   1.27    ,  16.5     ,  34.27    ,\n",
       "          6.15    ,  35.099998,  18.209999,  17.1     ,  67.910004]])"
      ]
     },
     "execution_count": 25,
     "metadata": {},
     "output_type": "execute_result"
    }
   ],
   "source": [
    "p"
   ]
  },
  {
   "cell_type": "code",
   "execution_count": 26,
   "metadata": {},
   "outputs": [],
   "source": [
    "sigma = r.cov().to_numpy()"
   ]
  },
  {
   "cell_type": "code",
   "execution_count": 27,
   "metadata": {},
   "outputs": [
    {
     "data": {
      "text/plain": [
       "(100, 100)"
      ]
     },
     "execution_count": 27,
     "metadata": {},
     "output_type": "execute_result"
    }
   ],
   "source": [
    "sigma.shape"
   ]
  },
  {
   "cell_type": "code",
   "execution_count": 158,
   "metadata": {},
   "outputs": [],
   "source": [
    "mu = r.mean().to_numpy()"
   ]
  },
  {
   "cell_type": "code",
   "execution_count": 29,
   "metadata": {},
   "outputs": [
    {
     "data": {
      "text/plain": [
       "(100,)"
      ]
     },
     "execution_count": 29,
     "metadata": {},
     "output_type": "execute_result"
    }
   ],
   "source": [
    "mu.shape"
   ]
  },
  {
   "cell_type": "code",
   "execution_count": 30,
   "metadata": {},
   "outputs": [],
   "source": [
    "import cvxpy as cp "
   ]
  },
  {
   "cell_type": "code",
   "execution_count": 31,
   "metadata": {},
   "outputs": [],
   "source": [
    "n = len(stocks)"
   ]
  },
  {
   "cell_type": "code",
   "execution_count": 32,
   "metadata": {},
   "outputs": [],
   "source": [
    "x = cp.Variable(shape=n, integer=True)\n",
    "threshold = cp.Parameter(nonneg=True) # maximum portfolio variance\n",
    "k = cp.Parameter(nonneg=True) # maximum allocation into one stock"
   ]
  },
  {
   "cell_type": "code",
   "execution_count": 33,
   "metadata": {},
   "outputs": [
    {
     "data": {
      "text/plain": [
       "Variable((100,), integer=True)"
      ]
     },
     "execution_count": 33,
     "metadata": {},
     "output_type": "execute_result"
    }
   ],
   "source": [
    "x"
   ]
  },
  {
   "cell_type": "code",
   "execution_count": 34,
   "metadata": {},
   "outputs": [
    {
     "data": {
      "text/plain": [
       "Parameter((), nonneg=True)"
      ]
     },
     "execution_count": 34,
     "metadata": {},
     "output_type": "execute_result"
    }
   ],
   "source": [
    "threshold"
   ]
  },
  {
   "cell_type": "code",
   "execution_count": 35,
   "metadata": {},
   "outputs": [
    {
     "data": {
      "text/plain": [
       "Parameter((), nonneg=True)"
      ]
     },
     "execution_count": 35,
     "metadata": {},
     "output_type": "execute_result"
    }
   ],
   "source": [
    "k"
   ]
  },
  {
   "cell_type": "code",
   "execution_count": 36,
   "metadata": {},
   "outputs": [],
   "source": [
    "mean = mu.T@x\n",
    "variance = cp.quad_form(x, sigma)"
   ]
  },
  {
   "cell_type": "code",
   "execution_count": 37,
   "metadata": {},
   "outputs": [
    {
     "data": {
      "text/plain": [
       "Expression(AFFINE, UNKNOWN, ())"
      ]
     },
     "execution_count": 37,
     "metadata": {},
     "output_type": "execute_result"
    }
   ],
   "source": [
    "mean"
   ]
  },
  {
   "cell_type": "code",
   "execution_count": 38,
   "metadata": {},
   "outputs": [
    {
     "data": {
      "text/plain": [
       "Expression(AFFINE, ZERO, (1, 1))"
      ]
     },
     "execution_count": 38,
     "metadata": {},
     "output_type": "execute_result"
    }
   ],
   "source": [
    "variance"
   ]
  },
  {
   "cell_type": "code",
   "execution_count": 59,
   "metadata": {},
   "outputs": [
    {
     "data": {
      "text/plain": [
       "'0000001'"
      ]
     },
     "execution_count": 59,
     "metadata": {},
     "output_type": "execute_result"
    }
   ],
   "source": [
    "'{0:07b}'.format(1)"
   ]
  },
  {
   "cell_type": "code",
   "execution_count": 40,
   "metadata": {},
   "outputs": [],
   "source": [
    "ri = np.random.randint(50, size=100)"
   ]
  },
  {
   "cell_type": "code",
   "execution_count": 41,
   "metadata": {},
   "outputs": [
    {
     "data": {
      "text/plain": [
       "2"
      ]
     },
     "execution_count": 41,
     "metadata": {},
     "output_type": "execute_result"
    }
   ],
   "source": [
    "sum(ri * p[0] > 3000)"
   ]
  },
  {
   "cell_type": "code",
   "execution_count": 47,
   "metadata": {},
   "outputs": [
    {
     "data": {
      "text/plain": [
       "10.111905321502416"
      ]
     },
     "execution_count": 47,
     "metadata": {},
     "output_type": "execute_result"
    }
   ],
   "source": [
    "3000 / np.max(p)"
   ]
  },
  {
   "cell_type": "code",
   "execution_count": 63,
   "metadata": {},
   "outputs": [],
   "source": [
    "x = np.random.randint(100, size=100)\n",
    "x_dna = '' \n",
    "for i in x:\n",
    "    x_dna += '{0:07b}'.format(i)"
   ]
  },
  {
   "cell_type": "code",
   "execution_count": 64,
   "metadata": {},
   "outputs": [
    {
     "data": {
      "text/plain": [
       "'1011111101001000101001010010100100010010100100110001001000110100111010100110010101010111011110001000111110110110000101010011111011011100100011000100111010100010010110101001011011100000000100101111000000110100010101010100110001011110001000001100110000110110111101101110111111100001011101101100011010111010001000100101011110010000110010000001011010111110110011001000001101100000010101001011000010111101000000011111000110111000001010000110100010110010001101000111100010111100100110101111011010011110001110011011110011111100000101011001001000100010111010100101111010011000010001010000100010010001100001100110001010100110101100100000001010010110000001011010110001011110110011111001110101010011000010110110'"
      ]
     },
     "execution_count": 64,
     "metadata": {},
     "output_type": "execute_result"
    }
   ],
   "source": [
    "x_dna"
   ]
  },
  {
   "cell_type": "code",
   "execution_count": 104,
   "metadata": {},
   "outputs": [
    {
     "data": {
      "text/plain": [
       "array([95, 82, 20, 82, 72, 74, 38, 18, 26, 58, 76, 85, 59, 98, 31, 54, 10,\n",
       "       79, 91, 72, 98, 58, 68, 90, 75, 56,  2, 47,  1, 81, 42, 76, 47,  8,\n",
       "       25, 67, 55, 91, 95, 97, 59, 49, 87, 34, 18, 94, 33, 72, 11, 47, 89,\n",
       "       72, 27,  1, 41, 48, 94, 64, 62, 27, 65, 33, 81, 50, 26, 30, 23, 73,\n",
       "       87, 90, 60, 57, 94, 63,  2, 89, 17, 11, 84, 94, 76, 17, 33,  9, 12,\n",
       "       25, 69, 38, 89,  0, 82, 96, 45, 49, 61, 79, 78, 84, 97, 54])"
      ]
     },
     "execution_count": 104,
     "metadata": {},
     "output_type": "execute_result"
    }
   ],
   "source": [
    "x"
   ]
  },
  {
   "cell_type": "code",
   "execution_count": 214,
   "metadata": {},
   "outputs": [],
   "source": [
    "def gen_pop(n):\n",
    "    pop = []\n",
    "    for _ in range(n):\n",
    "        x = np.random.randint(100, size=100)\n",
    "        x_dna = '' \n",
    "        for i in x:\n",
    "            x_dna += '{0:07b}'.format(i)\n",
    "        pop.append(x_dna)\n",
    "    return pop"
   ]
  },
  {
   "cell_type": "code",
   "execution_count": 73,
   "metadata": {},
   "outputs": [],
   "source": [
    "a = gen_pop(3)"
   ]
  },
  {
   "cell_type": "code",
   "execution_count": 66,
   "metadata": {},
   "outputs": [
    {
     "data": {
      "text/plain": [
       "700"
      ]
     },
     "execution_count": 66,
     "metadata": {},
     "output_type": "execute_result"
    }
   ],
   "source": [
    "len(x_dna)"
   ]
  },
  {
   "cell_type": "code",
   "execution_count": 70,
   "metadata": {},
   "outputs": [
    {
     "data": {
      "text/plain": [
       "11"
      ]
     },
     "execution_count": 70,
     "metadata": {},
     "output_type": "execute_result"
    }
   ],
   "source": [
    "np.random.randint(0,100)"
   ]
  },
  {
   "cell_type": "code",
   "execution_count": 74,
   "metadata": {},
   "outputs": [
    {
     "data": {
      "text/plain": [
       "'111000'"
      ]
     },
     "execution_count": 74,
     "metadata": {},
     "output_type": "execute_result"
    }
   ],
   "source": [
    "k = '111000'\n",
    "k[:3] + k[3:]"
   ]
  },
  {
   "cell_type": "code",
   "execution_count": 87,
   "metadata": {},
   "outputs": [
    {
     "name": "stdout",
     "output_type": "stream",
     "text": [
      "011000\n"
     ]
    }
   ],
   "source": [
    "i = np.random.randint(6)\n",
    "j = k[i]\n",
    "if j=='1':\n",
    "    c = k[:i] + '0' + k[i+1:]\n",
    "else:\n",
    "    c = k[:i] + '1' + k[i+1:]\n",
    "print(c)"
   ]
  },
  {
   "cell_type": "code",
   "execution_count": 75,
   "metadata": {},
   "outputs": [],
   "source": [
    "def xover(p1, p2):\n",
    "    cross_point = np.random.randint(0, len(p1))\n",
    "    \n",
    "    child1 = p1[:cross_point] + p2[cross_point:]\n",
    "    child2 = p2[:cross_point] + p1[cross_point:]\n",
    "    \n",
    "    return child1, child2"
   ]
  },
  {
   "cell_type": "code",
   "execution_count": 79,
   "metadata": {},
   "outputs": [
    {
     "data": {
      "text/plain": [
       "'1000101010001100001001010111001001000111000111100010001011000110010000011111100000110010000011001100011001000110101001010100011100011001011110001110010010101010001110100111111000010101101000100000001001110011100111000101000101110011011111000111100110010100110100101001001010001010101000000100000010101100011110001110010110101110110011010110010100100000111010110010100110000101111000011100110110110011000110000111101010010001011000010010100000011010100100110000110001000101000000001100000100001101001011110100110000010000101011011111010001000001101000001000010000001100100001100011000100110000101000010101110111001100001001101100001011011011010000111100110001001101101011110110000001000000011010000100'"
      ]
     },
     "execution_count": 79,
     "metadata": {},
     "output_type": "execute_result"
    }
   ],
   "source": [
    "a[0][1]"
   ]
  },
  {
   "cell_type": "code",
   "execution_count": 80,
   "metadata": {},
   "outputs": [
    {
     "data": {
      "text/plain": [
       "'1011001010001110101011000111101101110001000110100100001010001100110111100011011000010011001100001101011101000100001111100101101000010110000000010011100011101001100110000000100010001100111100100011100011100100111011100101000110011111001100101101100100110100001001000100001110000110000110001100011100010100001001101110110110000010100111011010000000111101111110011001100001111000011001111000100101000100001010110000110110001010111101100100101100111010010000101011010110001101111010101011011101100111110001110100100000110011000100110011100110001101101000100011000000110111010110010010000110000101110000011000110101001010101001100101010010001010000001110110111100011000101000010101001010011010101011010000'"
      ]
     },
     "execution_count": 80,
     "metadata": {},
     "output_type": "execute_result"
    }
   ],
   "source": [
    "a[1][1]"
   ]
  },
  {
   "cell_type": "code",
   "execution_count": 81,
   "metadata": {},
   "outputs": [],
   "source": [
    "p1, p2 = a[0][1], a[1][1]"
   ]
  },
  {
   "cell_type": "code",
   "execution_count": 83,
   "metadata": {},
   "outputs": [],
   "source": [
    "child1, child2 = xover(p1, p2)"
   ]
  },
  {
   "cell_type": "code",
   "execution_count": 85,
   "metadata": {},
   "outputs": [
    {
     "data": {
      "text/plain": [
       "700"
      ]
     },
     "execution_count": 85,
     "metadata": {},
     "output_type": "execute_result"
    }
   ],
   "source": [
    "len(child1)"
   ]
  },
  {
   "cell_type": "code",
   "execution_count": 91,
   "metadata": {},
   "outputs": [],
   "source": [
    "def mutate(child):\n",
    "    i = np.random.randint(len(child))\n",
    "    j = child[i]\n",
    "    \n",
    "    if j=='1':\n",
    "        mu = child[:i] + '0' + child[i+1:]\n",
    "    else:\n",
    "        mu = child[:i] + '1' + child[i+1:]\n",
    "    return mu"
   ]
  },
  {
   "cell_type": "code",
   "execution_count": 92,
   "metadata": {},
   "outputs": [
    {
     "data": {
      "text/plain": [
       "'1000101010001100001001010111001001000111000111100010001011000110010000011111100000110010000011001100011001000110101001010100011100011001011110001110010010101010001110100111111000010101101000100000001001110011100111000101000101110011011111000111100110010100110100101001001010001010101000000100000010101100011110001110010110101110110011010110000100100000111010110010100110000101111000011100110110110011000110000111101010010001011000010010100000011010100100110000110001000101000000001100000100001101001011110100110000010000101011011111010001000001101000001000010000001100100001100011000100110000110000011000110101001010101001100101010010001010000001110110111100011000101000010101001010011010101011010000'"
      ]
     },
     "execution_count": 92,
     "metadata": {},
     "output_type": "execute_result"
    }
   ],
   "source": [
    "mutate(child1)"
   ]
  },
  {
   "cell_type": "code",
   "execution_count": 187,
   "metadata": {},
   "outputs": [],
   "source": [
    "def phenotype(dna):\n",
    "    l = [dna[i * 7: i * 7 + 7] for i in range(100)]\n",
    "    x = [int(n,2) for n in l]\n",
    "    return np.array(x)"
   ]
  },
  {
   "cell_type": "code",
   "execution_count": 188,
   "metadata": {},
   "outputs": [],
   "source": [
    "ch = phenotype(child1)"
   ]
  },
  {
   "cell_type": "code",
   "execution_count": 189,
   "metadata": {},
   "outputs": [
    {
     "data": {
      "text/plain": [
       "array([ 8.30469863e-03, -2.33732977e-03,  1.60510592e-03, -1.22766802e-03,\n",
       "        5.52845527e-03, -2.66351653e-04,  1.04480461e-03, -8.05921419e-03,\n",
       "        2.41983225e-03, -5.20743031e-03,  2.54810736e-03,  1.54214315e-02,\n",
       "        2.48306325e-03,  3.83772337e-03, -3.58330223e-03,  2.40736606e-03,\n",
       "       -6.48272739e-03, -1.63289704e-04, -9.94063973e-03, -8.79919168e-03,\n",
       "       -1.17241600e-03, -2.84729788e-03,  1.68224541e-03,  3.07399379e-03,\n",
       "       -1.60489118e-03,  1.06570156e-03, -9.42085327e-03, -3.71579288e-05,\n",
       "       -8.65422830e-03,  8.84344524e-04,  5.50671321e-03, -7.86074968e-03,\n",
       "        6.94428886e-03, -1.86780334e-04, -5.08055421e-03,  2.00780208e-03,\n",
       "        4.65096697e-03, -1.03238352e-02, -1.56010426e-03,  1.92319671e-03,\n",
       "       -4.07768765e-03, -1.62718321e-02,  1.76289567e-02,  1.31226305e-02,\n",
       "        1.69648114e-03, -4.20045173e-03, -5.15336348e-03,  1.53720142e-03,\n",
       "       -1.41934114e-03,  6.43516482e-03,  6.13096691e-04, -7.23822481e-03,\n",
       "        5.04139233e-03,  3.86058468e-03,  2.04446326e-04,  1.10707836e-02,\n",
       "       -3.22844994e-05,  2.00414612e-03, -2.95850621e-03, -5.32488917e-03,\n",
       "        2.28275427e-03,  4.20968363e-03, -4.34102450e-03, -1.00965815e-04,\n",
       "       -1.38367337e-02, -5.19947725e-03, -1.16404305e-03, -5.43862224e-04,\n",
       "        1.09475052e-03, -2.42042410e-04,  3.63143074e-03,  6.91450577e-03,\n",
       "       -8.01913029e-03,  4.61162827e-03, -1.12794269e-02, -9.34915800e-04,\n",
       "       -3.58680875e-03, -7.91640956e-03,  2.09044821e-03, -7.85256161e-04,\n",
       "       -4.03713506e-03,  1.50553609e-03, -4.18525108e-03, -4.39093112e-03,\n",
       "        4.33212753e-05,  7.50108019e-04, -7.05263628e-03,  1.83431588e-03,\n",
       "        1.72753624e-03,  1.61191687e-03, -3.91793800e-03, -1.19756742e-02,\n",
       "       -3.66288164e-03, -6.24122835e-03,  1.56656219e-03, -7.15468021e-03,\n",
       "        3.79443718e-03, -7.36383869e-03,  2.44198183e-03,  8.66405432e-03])"
      ]
     },
     "execution_count": 189,
     "metadata": {},
     "output_type": "execute_result"
    }
   ],
   "source": [
    "mu.T"
   ]
  },
  {
   "cell_type": "code",
   "execution_count": 190,
   "metadata": {},
   "outputs": [
    {
     "data": {
      "text/plain": [
       "-2.774194052096007"
      ]
     },
     "execution_count": 190,
     "metadata": {},
     "output_type": "execute_result"
    }
   ],
   "source": [
    "mu.T.dot(ch)"
   ]
  },
  {
   "cell_type": "code",
   "execution_count": 191,
   "metadata": {},
   "outputs": [
    {
     "data": {
      "text/plain": [
       "(100,)"
      ]
     },
     "execution_count": 191,
     "metadata": {},
     "output_type": "execute_result"
    }
   ],
   "source": [
    "ch.shape"
   ]
  },
  {
   "cell_type": "code",
   "execution_count": 193,
   "metadata": {},
   "outputs": [
    {
     "data": {
      "text/plain": [
       "21808.37018364914"
      ]
     },
     "execution_count": 193,
     "metadata": {},
     "output_type": "execute_result"
    }
   ],
   "source": [
    "ch.T.dot(sigma).dot(ch)"
   ]
  },
  {
   "cell_type": "code",
   "execution_count": 194,
   "metadata": {},
   "outputs": [
    {
     "data": {
      "text/plain": [
       "(100,)"
      ]
     },
     "execution_count": 194,
     "metadata": {},
     "output_type": "execute_result"
    }
   ],
   "source": [
    "mu.shape"
   ]
  },
  {
   "cell_type": "code",
   "execution_count": 195,
   "metadata": {},
   "outputs": [
    {
     "data": {
      "text/plain": [
       "(100,)"
      ]
     },
     "execution_count": 195,
     "metadata": {},
     "output_type": "execute_result"
    }
   ],
   "source": [
    "ch.shape"
   ]
  },
  {
   "cell_type": "code",
   "execution_count": 206,
   "metadata": {},
   "outputs": [
    {
     "data": {
      "text/plain": [
       "array([[ 16.6     ,  17.190001,  21.35    ,   5.56    ,  28.59    ,\n",
       "          5.51    ,  13.04    ,   1.335   ,  27.190001,  16.959999,\n",
       "         10.26    ,  18.799999,   1.71    ,  77.089996,   1.46    ,\n",
       "          4.23    ,   6.27    ,  28.98    ,   2.05    ,   5.      ,\n",
       "          1.15    ,   8.63    ,  10.56    ,  11.75    ,  61.82    ,\n",
       "          8.84    ,   4.      ,   6.86    ,  23.25    , 187.449997,\n",
       "         15.16    ,   9.71    , 296.679993,  22.32    ,   7.6     ,\n",
       "          1.695   ,  51.099998,   2.98    ,   9.09    ,   3.82    ,\n",
       "          3.24    ,   9.91    ,  10.      ,  28.84    ,  12.1     ,\n",
       "          2.52    ,   3.63    ,   2.830808,   6.2     ,  11.56    ,\n",
       "          6.98    ,   2.02    ,  28.      ,  18.52    ,  10.3     ,\n",
       "         43.52    ,   2.09    ,   2.66    ,  85.75    ,  16.68    ,\n",
       "         23.049999,  10.53    ,   4.38    ,  15.35    ,   2.38    ,\n",
       "          3.23    ,   8.6     ,   2.15    ,  76.989998,  57.279999,\n",
       "         84.57    ,  24.690001,   1.765   ,   3.67    ,   1.565   ,\n",
       "         14.83    ,   2.53    ,   2.15    ,  24.33    ,   1.95    ,\n",
       "         16.969999,   4.      ,   3.42    ,   9.13    ,  11.24    ,\n",
       "          5.59    ,   2.53    ,  12.04    ,   3.07    ,   6.861685,\n",
       "         10.03    ,   1.035   ,   1.27    ,  16.5     ,  34.27    ,\n",
       "          6.15    ,  35.099998,  18.209999,  17.1     ,  67.910004]])"
      ]
     },
     "execution_count": 206,
     "metadata": {},
     "output_type": "execute_result"
    }
   ],
   "source": [
    "p"
   ]
  },
  {
   "cell_type": "code",
   "execution_count": 196,
   "metadata": {},
   "outputs": [
    {
     "data": {
      "text/plain": [
       "0.03300608585795514"
      ]
     },
     "execution_count": 196,
     "metadata": {},
     "output_type": "execute_result"
    }
   ],
   "source": [
    "sum(abs(mu[np.where(p[0]*ch > 3000)]))"
   ]
  },
  {
   "cell_type": "code",
   "execution_count": 123,
   "metadata": {},
   "outputs": [],
   "source": [
    "def evaluate(dna, mu, sigma, k, p):\n",
    "    x = phenotype(dna)\n",
    "    mean = mu.T.dot(x) \n",
    "    penalty = sum(abs(mu[np.where(p[0]*x > k)]))\n",
    "    variance = 0.5 * x.T.dot(sigma).dot(x)\n",
    "    \n",
    "    return mean, 1 / variance, penalty"
   ]
  },
  {
   "cell_type": "code",
   "execution_count": 209,
   "metadata": {},
   "outputs": [],
   "source": [
    "vars()['a'] = 10"
   ]
  },
  {
   "cell_type": "code",
   "execution_count": 215,
   "metadata": {},
   "outputs": [],
   "source": [
    "population = gen_pop(10)"
   ]
  },
  {
   "cell_type": "code",
   "execution_count": 218,
   "metadata": {},
   "outputs": [
    {
     "data": {
      "text/plain": [
       "array([14,  7, 75, 48, 92,  2, 93, 40, 79, 73, 31, 82, 19, 33, 35, 94, 28,\n",
       "        6, 30, 42, 47, 12, 46,  2, 32, 36, 32, 54,  4, 82, 74, 67,  3, 23,\n",
       "       89, 76, 20, 59, 79, 66, 56, 68, 48,  9, 18, 93, 94, 48, 19, 39, 83,\n",
       "       37, 54, 22, 45, 94, 51, 87, 71, 67,  2, 34, 17, 15, 42, 69, 21, 12,\n",
       "       20, 77, 75,  4, 93,  8, 76, 55,  6, 85, 53, 46, 76, 14, 23, 83,  9,\n",
       "       26, 64, 45, 73,  4, 67, 12, 67, 78, 54,  2, 90,  4, 61, 39])"
      ]
     },
     "execution_count": 218,
     "metadata": {},
     "output_type": "execute_result"
    }
   ],
   "source": [
    "phenotype(population[0])"
   ]
  },
  {
   "cell_type": "code",
   "execution_count": 319,
   "metadata": {},
   "outputs": [],
   "source": [
    "def is_pareto_efficient_simple(costs):\n",
    "    \"\"\"\n",
    "    Find the pareto-efficient points\n",
    "    :param costs: An (n_points, n_costs) array\n",
    "    :return: A (n_points, ) boolean array, indicating whether each point is Pareto efficient\n",
    "    \"\"\"\n",
    "    is_efficient = np.ones(costs.shape[0], dtype = bool)\n",
    "    for i, c in enumerate(costs):\n",
    "        if is_efficient[i]:\n",
    "            is_efficient[is_efficient] = np.any(costs[is_efficient] > c, axis=1)  # Keep any point with a lower cost\n",
    "            is_efficient[i] = True  # And keep self\n",
    "    return is_efficient"
   ]
  },
  {
   "cell_type": "code",
   "execution_count": 320,
   "metadata": {},
   "outputs": [],
   "source": [
    "C = [[0.3296170319979843, 0.0, 0.44472108843537406], [0.3296170319979843,0.0, 0.44472108843537406], [0.32920760896951373, 0.0, 0.4440408163265306], [0.32920760896951373, 0.0, 0.4440408163265306], [0.33815192743764166, 0.0, 0.44356462585034007]]"
   ]
  },
  {
   "cell_type": "code",
   "execution_count": 321,
   "metadata": {},
   "outputs": [],
   "source": [
    "C = np.array(Cost)"
   ]
  },
  {
   "cell_type": "code",
   "execution_count": 322,
   "metadata": {},
   "outputs": [],
   "source": [
    "l = []\n",
    "cost = C\n",
    "index = np.arange(len(cost))\n",
    "while len(cost) > 0:\n",
    "    b = is_pareto_efficient_simple(cost)\n",
    "    l += index[b].tolist()\n",
    "    index = index[b == 0]\n",
    "    cost = cost[b == 0]"
   ]
  },
  {
   "cell_type": "code",
   "execution_count": 323,
   "metadata": {},
   "outputs": [
    {
     "data": {
      "text/plain": [
       "array([[0.32961703, 0.        , 0.44472109],\n",
       "       [0.33815193, 0.        , 0.44356463],\n",
       "       [0.32961703, 0.        , 0.44472109],\n",
       "       [0.32920761, 0.        , 0.44404082],\n",
       "       [0.32920761, 0.        , 0.44404082]])"
      ]
     },
     "execution_count": 323,
     "metadata": {},
     "output_type": "execute_result"
    }
   ],
   "source": [
    "C[l]"
   ]
  },
  {
   "cell_type": "code",
   "execution_count": 324,
   "metadata": {},
   "outputs": [],
   "source": [
    "def sorted_index(C):\n",
    "    l = []\n",
    "    cost = C\n",
    "    index = np.arange(len(cost))\n",
    "    while len(cost) > 0:\n",
    "        b = is_pareto_efficient_simple(cost)\n",
    "        l += index[b].tolist()\n",
    "        index = index[b == 0]\n",
    "        cost = cost[b == 0]\n",
    "    \n",
    "    return l"
   ]
  },
  {
   "cell_type": "code",
   "execution_count": 325,
   "metadata": {},
   "outputs": [
    {
     "data": {
      "text/plain": [
       "[0, 4, 1, 2, 3]"
      ]
     },
     "execution_count": 325,
     "metadata": {},
     "output_type": "execute_result"
    }
   ],
   "source": [
    "sorted_index(C)"
   ]
  },
  {
   "cell_type": "code",
   "execution_count": 332,
   "metadata": {},
   "outputs": [],
   "source": [
    "a = np.array(C[l][0])\n",
    "b = np.array(C[l][1])\n",
    "c = np.array(C[l][-1])"
   ]
  },
  {
   "cell_type": "code",
   "execution_count": 333,
   "metadata": {},
   "outputs": [
    {
     "data": {
      "text/plain": [
       "array([False, False,  True])"
      ]
     },
     "execution_count": 333,
     "metadata": {},
     "output_type": "execute_result"
    }
   ],
   "source": [
    "a>b"
   ]
  },
  {
   "cell_type": "code",
   "execution_count": 334,
   "metadata": {},
   "outputs": [
    {
     "data": {
      "text/plain": [
       "array([ True, False,  True])"
      ]
     },
     "execution_count": 334,
     "metadata": {},
     "output_type": "execute_result"
    }
   ],
   "source": [
    "a>c"
   ]
  },
  {
   "cell_type": "code",
   "execution_count": 351,
   "metadata": {},
   "outputs": [],
   "source": [
    "def fight(p1, p2):\n",
    "    l = np.array([p1, p2])\n",
    "    i = is_pareto_efficient_simple(l)\n",
    "    print(i)\n",
    "    return l[i][0].tolist()"
   ]
  },
  {
   "cell_type": "code",
   "execution_count": 352,
   "metadata": {},
   "outputs": [
    {
     "name": "stdout",
     "output_type": "stream",
     "text": [
      "[False  True]\n"
     ]
    },
    {
     "data": {
      "text/plain": [
       "[0.32961703, 0.0, 0.44472109]"
      ]
     },
     "execution_count": 352,
     "metadata": {},
     "output_type": "execute_result"
    }
   ],
   "source": [
    "a = [0.32961703, 0.        , 0.44472109]\n",
    "c = [0.32920761, 0.        , 0.44404082]\n",
    "b = a\n",
    "fight(c, b)"
   ]
  },
  {
   "cell_type": "code",
   "execution_count": 354,
   "metadata": {},
   "outputs": [
    {
     "data": {
      "text/plain": [
       "array([[1]])"
      ]
     },
     "execution_count": 354,
     "metadata": {},
     "output_type": "execute_result"
    }
   ],
   "source": [
    "np.array([[1], [2]])[[True, False]]"
   ]
  },
  {
   "cell_type": "code",
   "execution_count": 355,
   "metadata": {},
   "outputs": [],
   "source": [
    "p = ['a', 'b']\n",
    "e = [a, b]"
   ]
  },
  {
   "cell_type": "code",
   "execution_count": 360,
   "metadata": {},
   "outputs": [],
   "source": [
    "def fight(parents, evaluates):\n",
    "    l = np.array(evaluates)\n",
    "    i = is_pareto_efficient_simple(l)\n",
    "    \n",
    "    return np.array(parents)[i][0].tolist()"
   ]
  },
  {
   "cell_type": "code",
   "execution_count": 361,
   "metadata": {},
   "outputs": [
    {
     "data": {
      "text/plain": [
       "'a'"
      ]
     },
     "execution_count": 361,
     "metadata": {},
     "output_type": "execute_result"
    }
   ],
   "source": [
    "fight(p, e)"
   ]
  },
  {
   "cell_type": "code",
   "execution_count": 368,
   "metadata": {},
   "outputs": [
    {
     "name": "stdout",
     "output_type": "stream",
     "text": [
      "[[1 1 1]\n",
      " [2 2 2]\n",
      " [3 3 3]\n",
      " [4 4 4]]\n"
     ]
    }
   ],
   "source": [
    "import numpy as np\n",
    "\n",
    "def pareto_frontier_multi(myArray):\n",
    "    # Sort on first dimension\n",
    "    myArray = myArray[myArray[:,0].argsort()]\n",
    "    # Add first row to pareto_frontier\n",
    "    pareto_frontier = myArray[0:1,:]\n",
    "    # Test next row against the last row in pareto_frontier\n",
    "    for row in myArray[1:,:]:\n",
    "        if sum([row[x] >= pareto_frontier[-1][x]\n",
    "                for x in range(len(row))]) == len(row):\n",
    "            # If it is better on all features add the row to pareto_frontier\n",
    "            pareto_frontier = np.concatenate((pareto_frontier, [row]))\n",
    "    return pareto_frontier\n",
    "\n",
    "def test():\n",
    "    myArray = np.array([[1,1,1],[2,2,2],[4,4,4],[3,3,3]])\n",
    "    print( pareto_frontier_multi(myArray))\n",
    "\n",
    "test()"
   ]
  },
  {
   "cell_type": "code",
   "execution_count": null,
   "metadata": {},
   "outputs": [],
   "source": []
  }
 ],
 "metadata": {
  "kernelspec": {
   "display_name": "Python 3",
   "language": "python",
   "name": "python3"
  },
  "language_info": {
   "codemirror_mode": {
    "name": "ipython",
    "version": 3
   },
   "file_extension": ".py",
   "mimetype": "text/x-python",
   "name": "python",
   "nbconvert_exporter": "python",
   "pygments_lexer": "ipython3",
   "version": "3.7.4"
  }
 },
 "nbformat": 4,
 "nbformat_minor": 4
}
